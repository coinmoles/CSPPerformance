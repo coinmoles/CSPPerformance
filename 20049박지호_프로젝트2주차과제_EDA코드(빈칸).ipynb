{
  "cells": [
    {
      "cell_type": "markdown",
      "metadata": {
        "id": "NE9Z57fHPp8i"
      },
      "source": [
        "# 프로젝트 2주차 과제- EDA 코드 제출\n",
        "- 팀: 0 조\n",
        "- 팀원: 김소망, 이사랑, 박믿음"
      ]
    },
    {
      "cell_type": "markdown",
      "metadata": {
        "id": "REBp1WApQMak"
      },
      "source": [
        "## 1. 데이터 로드"
      ]
    },
    {
      "cell_type": "code",
      "execution_count": null,
      "metadata": {
        "id": "ieLY8Uh5Powk"
      },
      "outputs": [],
      "source": []
    },
    {
      "cell_type": "markdown",
      "metadata": {
        "id": "Gy5KNWL1QQAs"
      },
      "source": [
        "## 2. 데이터 분석"
      ]
    },
    {
      "cell_type": "code",
      "execution_count": null,
      "metadata": {
        "id": "qZuMJZZrQSD_"
      },
      "outputs": [],
      "source": []
    },
    {
      "cell_type": "markdown",
      "metadata": {
        "id": "ExTYX5PiQkTf"
      },
      "source": [
        "## 타이틀 추가~"
      ]
    },
    {
      "cell_type": "code",
      "execution_count": null,
      "metadata": {
        "id": "oT8YOVWTQmG5"
      },
      "outputs": [],
      "source": []
    }
  ],
  "metadata": {
    "colab": {
      "collapsed_sections": [],
      "name": "20049박지호 - 프로젝트2주차과제_EDA코드(빈칸).ipynb",
      "provenance": []
    },
    "kernelspec": {
      "display_name": "Python 3",
      "name": "python3"
    },
    "language_info": {
      "name": "python"
    }
  },
  "nbformat": 4,
  "nbformat_minor": 0
}
