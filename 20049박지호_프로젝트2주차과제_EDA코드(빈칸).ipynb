{
  "cells": [
    {
      "cell_type": "markdown",
      "metadata": {
        "id": "NE9Z57fHPp8i"
      },
      "source": [
        "# 프로젝트 2주차 과제- EDA 코드 제출\n",
        "- 팀: 0 조\n",
        "- 팀원: 김소망, 이사랑, 박믿음"
      ]
    },
    {
      "cell_type": "markdown",
      "metadata": {
        "id": "REBp1WApQMak"
      },
      "source": [
        "## 1. 데이터 로드"
      ]
    },
    {
      "cell_type": "code",
      "execution_count": 289,
      "metadata": {
        "id": "ieLY8Uh5Powk"
      },
      "outputs": [],
      "source": [
        "import pandas as pd\n",
        "import requests\n",
        "from bs4 import BeautifulSoup\n",
        "import re"
      ]
    },
    {
      "cell_type": "code",
      "execution_count": 1,
      "metadata": {},
      "outputs": [
        {
          "ename": "SyntaxError",
          "evalue": "invalid syntax (1065002487.py, line 4)",
          "output_type": "error",
          "traceback": [
            "\u001b[0;36m  File \u001b[0;32m\"/tmp/ipykernel_595/1065002487.py\"\u001b[0;36m, line \u001b[0;32m4\u001b[0m\n\u001b[0;31m    EVUSAGEPATH =\u001b[0m\n\u001b[0m                  ^\u001b[0m\n\u001b[0;31mSyntaxError\u001b[0m\u001b[0;31m:\u001b[0m invalid syntax\n"
          ]
        }
      ],
      "source": [
        "CO2EMMISIONPATH = \"data/co-emissions-per-capita.csv\"\n",
        "CARSALESPATH = \"data/global-car-sales-by-key-markets-2005-2020.csv\"\n",
        "EVSALESPATH = \"data/global-electric-car-sales-by-key-markets-2010-2020.csv\"\n",
        "EVUSAGEPATH = \n",
        "RESTRICTIONURL = \"https://en.wikipedia.org/wiki/Phase-out_of_fossil_fuel_vehicles\""
      ]
    },
    {
      "cell_type": "code",
      "execution_count": 338,
      "metadata": {},
      "outputs": [
        {
          "data": {
            "text/html": [
              "<div>\n",
              "<style scoped>\n",
              "    .dataframe tbody tr th:only-of-type {\n",
              "        vertical-align: middle;\n",
              "    }\n",
              "\n",
              "    .dataframe tbody tr th {\n",
              "        vertical-align: top;\n",
              "    }\n",
              "\n",
              "    .dataframe thead th {\n",
              "        text-align: right;\n",
              "    }\n",
              "</style>\n",
              "<table border=\"1\" class=\"dataframe\">\n",
              "  <thead>\n",
              "    <tr style=\"text-align: right;\">\n",
              "      <th></th>\n",
              "      <th>Entity</th>\n",
              "      <th>Code</th>\n",
              "      <th>Year</th>\n",
              "      <th>Annual CO2 emissions (per capita)</th>\n",
              "    </tr>\n",
              "  </thead>\n",
              "  <tbody>\n",
              "    <tr>\n",
              "      <th>0</th>\n",
              "      <td>Afghanistan</td>\n",
              "      <td>AFG</td>\n",
              "      <td>1949</td>\n",
              "      <td>0.0019</td>\n",
              "    </tr>\n",
              "    <tr>\n",
              "      <th>1</th>\n",
              "      <td>Afghanistan</td>\n",
              "      <td>AFG</td>\n",
              "      <td>1950</td>\n",
              "      <td>0.0109</td>\n",
              "    </tr>\n",
              "    <tr>\n",
              "      <th>2</th>\n",
              "      <td>Afghanistan</td>\n",
              "      <td>AFG</td>\n",
              "      <td>1951</td>\n",
              "      <td>0.0117</td>\n",
              "    </tr>\n",
              "    <tr>\n",
              "      <th>3</th>\n",
              "      <td>Afghanistan</td>\n",
              "      <td>AFG</td>\n",
              "      <td>1952</td>\n",
              "      <td>0.0115</td>\n",
              "    </tr>\n",
              "    <tr>\n",
              "      <th>4</th>\n",
              "      <td>Afghanistan</td>\n",
              "      <td>AFG</td>\n",
              "      <td>1953</td>\n",
              "      <td>0.0132</td>\n",
              "    </tr>\n",
              "  </tbody>\n",
              "</table>\n",
              "</div>"
            ],
            "text/plain": [
              "        Entity Code  Year  Annual CO2 emissions (per capita)\n",
              "0  Afghanistan  AFG  1949                             0.0019\n",
              "1  Afghanistan  AFG  1950                             0.0109\n",
              "2  Afghanistan  AFG  1951                             0.0117\n",
              "3  Afghanistan  AFG  1952                             0.0115\n",
              "4  Afghanistan  AFG  1953                             0.0132"
            ]
          },
          "execution_count": 338,
          "metadata": {},
          "output_type": "execute_result"
        }
      ],
      "source": [
        "#CO2 배출량 데이터 로드\n",
        "\n",
        "co2Emission = pd.read_csv(CO2EMMISIONPATH)\n",
        "co2Emission.head()"
      ]
    },
    {
      "cell_type": "code",
      "execution_count": 337,
      "metadata": {},
      "outputs": [
        {
          "data": {
            "text/html": [
              "<div>\n",
              "<style scoped>\n",
              "    .dataframe tbody tr th:only-of-type {\n",
              "        vertical-align: middle;\n",
              "    }\n",
              "\n",
              "    .dataframe tbody tr th {\n",
              "        vertical-align: top;\n",
              "    }\n",
              "\n",
              "    .dataframe thead th {\n",
              "        text-align: right;\n",
              "    }\n",
              "</style>\n",
              "<table border=\"1\" class=\"dataframe\">\n",
              "  <thead>\n",
              "    <tr style=\"text-align: right;\">\n",
              "      <th></th>\n",
              "      <th>China</th>\n",
              "      <th>United States</th>\n",
              "      <th>Japan</th>\n",
              "    </tr>\n",
              "  </thead>\n",
              "  <tbody>\n",
              "    <tr>\n",
              "      <th>2005</th>\n",
              "      <td>4.940918</td>\n",
              "      <td>16.959718</td>\n",
              "      <td>4.249767</td>\n",
              "    </tr>\n",
              "    <tr>\n",
              "      <th>2006</th>\n",
              "      <td>6.259026</td>\n",
              "      <td>16.526294</td>\n",
              "      <td>4.005003</td>\n",
              "    </tr>\n",
              "    <tr>\n",
              "      <th>2007</th>\n",
              "      <td>7.589375</td>\n",
              "      <td>16.104484</td>\n",
              "      <td>3.718892</td>\n",
              "    </tr>\n",
              "    <tr>\n",
              "      <th>2008</th>\n",
              "      <td>8.151446</td>\n",
              "      <td>13.203105</td>\n",
              "      <td>3.493202</td>\n",
              "    </tr>\n",
              "    <tr>\n",
              "      <th>2009</th>\n",
              "      <td>12.458877</td>\n",
              "      <td>10.408939</td>\n",
              "      <td>3.225547</td>\n",
              "    </tr>\n",
              "  </tbody>\n",
              "</table>\n",
              "</div>"
            ],
            "text/plain": [
              "          China  United States     Japan\n",
              "2005   4.940918      16.959718  4.249767\n",
              "2006   6.259026      16.526294  4.005003\n",
              "2007   7.589375      16.104484  3.718892\n",
              "2008   8.151446      13.203105  3.493202\n",
              "2009  12.458877      10.408939  3.225547"
            ]
          },
          "execution_count": 337,
          "metadata": {},
          "output_type": "execute_result"
        }
      ],
      "source": [
        "# 자동차 판매량 데이터 로드\n",
        "# 전기차 판매량과 국가 이름을 맞춤\n",
        "\n",
        "carSales = pd.read_csv(CARSALESPATH, index_col=0, skiprows=[0, 1, 2])\\\n",
        "    .drop(columns=[\"World (2020 H1)\", \"World (2020 H2)\"])\\\n",
        "    .drop([2020])\\\n",
        "    [[\"China\", \"United States\", \"Japan\"]]\n",
        "carSales.head()"
      ]
    },
    {
      "cell_type": "code",
      "execution_count": 339,
      "metadata": {},
      "outputs": [
        {
          "data": {
            "text/html": [
              "<div>\n",
              "<style scoped>\n",
              "    .dataframe tbody tr th:only-of-type {\n",
              "        vertical-align: middle;\n",
              "    }\n",
              "\n",
              "    .dataframe tbody tr th {\n",
              "        vertical-align: top;\n",
              "    }\n",
              "\n",
              "    .dataframe thead th {\n",
              "        text-align: right;\n",
              "    }\n",
              "</style>\n",
              "<table border=\"1\" class=\"dataframe\">\n",
              "  <thead>\n",
              "    <tr style=\"text-align: right;\">\n",
              "      <th></th>\n",
              "      <th>China</th>\n",
              "      <th>United States</th>\n",
              "      <th>Japan</th>\n",
              "    </tr>\n",
              "  </thead>\n",
              "  <tbody>\n",
              "    <tr>\n",
              "      <th>2010</th>\n",
              "      <td>0.001551</td>\n",
              "      <td>0.001201</td>\n",
              "      <td>0.002442</td>\n",
              "    </tr>\n",
              "    <tr>\n",
              "      <th>2011</th>\n",
              "      <td>0.005403</td>\n",
              "      <td>0.017907</td>\n",
              "      <td>0.013471</td>\n",
              "    </tr>\n",
              "    <tr>\n",
              "      <th>2012</th>\n",
              "      <td>0.010422</td>\n",
              "      <td>0.054061</td>\n",
              "      <td>0.026924</td>\n",
              "    </tr>\n",
              "    <tr>\n",
              "      <th>2013</th>\n",
              "      <td>0.015891</td>\n",
              "      <td>0.097775</td>\n",
              "      <td>0.030943</td>\n",
              "    </tr>\n",
              "    <tr>\n",
              "      <th>2014</th>\n",
              "      <td>0.073890</td>\n",
              "      <td>0.120255</td>\n",
              "      <td>0.033332</td>\n",
              "    </tr>\n",
              "  </tbody>\n",
              "</table>\n",
              "</div>"
            ],
            "text/plain": [
              "         China  United States     Japan\n",
              "2010  0.001551       0.001201  0.002442\n",
              "2011  0.005403       0.017907  0.013471\n",
              "2012  0.010422       0.054061  0.026924\n",
              "2013  0.015891       0.097775  0.030943\n",
              "2014  0.073890       0.120255  0.033332"
            ]
          },
          "execution_count": 339,
          "metadata": {},
          "output_type": "execute_result"
        }
      ],
      "source": [
        "# 전기차 생산량 데이터 로드\n",
        "\n",
        "evSales = pd.read_csv(EVSALESPATH, index_col=0, skiprows=[0, 1, 2])\\\n",
        "    .drop(columns=[\"World\", \"Market Share\"])\\\n",
        "    .drop([2020])\\\n",
        "    .rename(columns={\"USA\": \"United States\"})\\\n",
        "    [[\"China\", \"United States\", \"Japan\"]]\n",
        "evSales.head()"
      ]
    },
    {
      "cell_type": "code",
      "execution_count": 294,
      "metadata": {},
      "outputs": [],
      "source": [
        "req = requests.get(RESTRICTIONURL)\n",
        "soup = BeautifulSoup(req.text)"
      ]
    },
    {
      "cell_type": "code",
      "execution_count": 295,
      "metadata": {},
      "outputs": [],
      "source": [
        "selector = \"table:nth-of-type(3) > tbody > tr\"\n",
        "components = soup.select(selector)"
      ]
    },
    {
      "cell_type": "code",
      "execution_count": 341,
      "metadata": {},
      "outputs": [
        {
          "data": {
            "text/html": [
              "<div>\n",
              "<style scoped>\n",
              "    .dataframe tbody tr th:only-of-type {\n",
              "        vertical-align: middle;\n",
              "    }\n",
              "\n",
              "    .dataframe tbody tr th {\n",
              "        vertical-align: top;\n",
              "    }\n",
              "\n",
              "    .dataframe thead th {\n",
              "        text-align: right;\n",
              "    }\n",
              "</style>\n",
              "<table border=\"1\" class=\"dataframe\">\n",
              "  <thead>\n",
              "    <tr style=\"text-align: right;\">\n",
              "      <th></th>\n",
              "      <th>City or Territory</th>\n",
              "      <th>Country</th>\n",
              "      <th>Announced</th>\n",
              "      <th>Commences</th>\n",
              "      <th>Scope</th>\n",
              "      <th>Details</th>\n",
              "    </tr>\n",
              "  </thead>\n",
              "  <tbody>\n",
              "    <tr>\n",
              "      <th>0</th>\n",
              "      <td>Aachen</td>\n",
              "      <td>Germany</td>\n",
              "      <td>2018</td>\n",
              "      <td>2019</td>\n",
              "      <td>Diesel</td>\n",
              "      <td>Older diesel vehicles (2019), unless pollution...</td>\n",
              "    </tr>\n",
              "    <tr>\n",
              "      <th>1</th>\n",
              "      <td>Amsterdam</td>\n",
              "      <td>Netherlands</td>\n",
              "      <td>2019</td>\n",
              "      <td>2030</td>\n",
              "      <td>Diesel, petrol</td>\n",
              "      <td>Euro I–III diesel cars (2020), non-electric bu...</td>\n",
              "    </tr>\n",
              "    <tr>\n",
              "      <th>2</th>\n",
              "      <td>Antwerp</td>\n",
              "      <td>Belgium</td>\n",
              "      <td>2016</td>\n",
              "      <td>2017–2025</td>\n",
              "      <td>Diesel, lpg, petrol</td>\n",
              "      <td>Euro I–II diesels and 0 petrol/lpg (2017), Eur...</td>\n",
              "    </tr>\n",
              "    <tr>\n",
              "      <th>3</th>\n",
              "      <td>Arnhem</td>\n",
              "      <td>Netherlands</td>\n",
              "      <td>201?, 2018</td>\n",
              "      <td>2014–2019</td>\n",
              "      <td>Diesel</td>\n",
              "      <td>Euro I–III diesel trucks (2014), all Euro I–II...</td>\n",
              "    </tr>\n",
              "    <tr>\n",
              "      <th>4</th>\n",
              "      <td>Athens</td>\n",
              "      <td>Greece</td>\n",
              "      <td>2016</td>\n",
              "      <td>2025</td>\n",
              "      <td>Diesel</td>\n",
              "      <td>All vehicles</td>\n",
              "    </tr>\n",
              "  </tbody>\n",
              "</table>\n",
              "</div>"
            ],
            "text/plain": [
              "  City or Territory      Country   Announced  Commences                Scope  \\\n",
              "0            Aachen      Germany        2018       2019               Diesel   \n",
              "1         Amsterdam  Netherlands        2019       2030       Diesel, petrol   \n",
              "2           Antwerp      Belgium        2016  2017–2025  Diesel, lpg, petrol   \n",
              "3            Arnhem  Netherlands  201?, 2018  2014–2019               Diesel   \n",
              "4            Athens       Greece        2016       2025               Diesel   \n",
              "\n",
              "                                             Details  \n",
              "0  Older diesel vehicles (2019), unless pollution...  \n",
              "1  Euro I–III diesel cars (2020), non-electric bu...  \n",
              "2  Euro I–II diesels and 0 petrol/lpg (2017), Eur...  \n",
              "3  Euro I–III diesel trucks (2014), all Euro I–II...  \n",
              "4                                       All vehicles  "
            ]
          },
          "execution_count": 341,
          "metadata": {},
          "output_type": "execute_result"
        }
      ],
      "source": [
        "restriction = pd.DataFrame(columns=(\"City or Territory\", \"Country\", \"Announced\", \"Commences\", \"Scope\", \"Details\"))\n",
        "\n",
        "for component in components:\n",
        "    if component.select_one(\"td\") is None:\n",
        "        continue\n",
        "\n",
        "    def parse_wiki(text):\n",
        "        text = re.sub(\"\\s+$\", \"\", text)\n",
        "        text = re.sub(\"\\[[0-9]+\\]\", \"\", text)\n",
        "        return text\n",
        "\n",
        "    def select_nth(i):\n",
        "        return component.select_one(\"td:nth-of-type({})\".format(i)).text\n",
        "\n",
        "    restriction = restriction.append({\n",
        "        \"City or Territory\": parse_wiki(select_nth(1)),\n",
        "        \"Country\": parse_wiki(select_nth(2)),\n",
        "        \"Announced\": parse_wiki(select_nth(3)),\n",
        "        \"Commences\": parse_wiki(select_nth(4)),\n",
        "        \"Scope\": parse_wiki(select_nth(5)),\n",
        "        \"Details\": parse_wiki(select_nth(6))\n",
        "    }, ignore_index=True)\n",
        "\n",
        "restriction.head()"
      ]
    },
    {
      "cell_type": "code",
      "execution_count": null,
      "metadata": {},
      "outputs": [],
      "source": []
    },
    {
      "cell_type": "markdown",
      "metadata": {
        "id": "Gy5KNWL1QQAs"
      },
      "source": [
        "## 2. 데이터 분석"
      ]
    },
    {
      "cell_type": "code",
      "execution_count": 342,
      "metadata": {},
      "outputs": [],
      "source": [
        "import matplotlib.pyplot as plt"
      ]
    },
    {
      "cell_type": "markdown",
      "metadata": {},
      "source": [
        "### 2.1. 주요 자동차 시장에서 전기자동차 점유율은 어떻게 변화해 왔을까?"
      ]
    },
    {
      "cell_type": "code",
      "execution_count": 344,
      "metadata": {},
      "outputs": [
        {
          "data": {
            "text/html": [
              "<div>\n",
              "<style scoped>\n",
              "    .dataframe tbody tr th:only-of-type {\n",
              "        vertical-align: middle;\n",
              "    }\n",
              "\n",
              "    .dataframe tbody tr th {\n",
              "        vertical-align: top;\n",
              "    }\n",
              "\n",
              "    .dataframe thead th {\n",
              "        text-align: right;\n",
              "    }\n",
              "</style>\n",
              "<table border=\"1\" class=\"dataframe\">\n",
              "  <thead>\n",
              "    <tr style=\"text-align: right;\">\n",
              "      <th></th>\n",
              "      <th>China</th>\n",
              "      <th>United States</th>\n",
              "      <th>Japan</th>\n",
              "    </tr>\n",
              "  </thead>\n",
              "  <tbody>\n",
              "    <tr>\n",
              "      <th>2010</th>\n",
              "      <td>0.009399</td>\n",
              "      <td>0.010390</td>\n",
              "      <td>0.068653</td>\n",
              "    </tr>\n",
              "    <tr>\n",
              "      <th>2011</th>\n",
              "      <td>0.031786</td>\n",
              "      <td>0.140619</td>\n",
              "      <td>0.456099</td>\n",
              "    </tr>\n",
              "    <tr>\n",
              "      <th>2012</th>\n",
              "      <td>0.058677</td>\n",
              "      <td>0.372981</td>\n",
              "      <td>1.306489</td>\n",
              "    </tr>\n",
              "    <tr>\n",
              "      <th>2013</th>\n",
              "      <td>0.078393</td>\n",
              "      <td>0.626742</td>\n",
              "      <td>1.503466</td>\n",
              "    </tr>\n",
              "    <tr>\n",
              "      <th>2014</th>\n",
              "      <td>0.339061</td>\n",
              "      <td>0.727766</td>\n",
              "      <td>1.569238</td>\n",
              "    </tr>\n",
              "  </tbody>\n",
              "</table>\n",
              "</div>"
            ],
            "text/plain": [
              "         China  United States     Japan\n",
              "2010  0.009399       0.010390  0.068653\n",
              "2011  0.031786       0.140619  0.456099\n",
              "2012  0.058677       0.372981  1.306489\n",
              "2013  0.078393       0.626742  1.503466\n",
              "2014  0.339061       0.727766  1.569238"
            ]
          },
          "execution_count": 344,
          "metadata": {},
          "output_type": "execute_result"
        }
      ],
      "source": [
        "COUNTRIES = list(evSales.columns)\n",
        "YEARS = list(evSales.index)\n",
        "\n",
        "# 전기자동차 점유율 계산\n",
        "\n",
        "evShare = evSales.loc[YEARS, COUNTRIES] / carSales.loc[YEARS, COUNTRIES] * 100\n",
        "evShare.head()"
      ]
    },
    {
      "cell_type": "code",
      "execution_count": 227,
      "metadata": {
        "id": "qZuMJZZrQSD_"
      },
      "outputs": [
        {
          "data": {
            "image/png": "[encoded data removed]",
            "image/svg+xml": "<?xml version=\"1.0\" encoding=\"utf-8\" standalone=\"no\"?>\n<!DOCTYPE svg PUBLIC \"-//W3C//DTD SVG 1.1//EN\"\n  \"http://www.w3.org/Graphics/SVG/1.1/DTD/svg11.dtd\">\n<svg xmlns:xlink=\"http://www.w3.org/1999/xlink\" width=\"362.5625pt\" height=\"262.19625pt\" viewBox=\"0 0 362.5625 262.19625\" xmlns=\"http://www.w3.org/2000/svg\" version=\"1.1\">\n <metadata>\n  <rdf:RDF xmlns:dc=\"http://purl.org/dc/elements/1.1/\" xmlns:cc=\"http://creativecommons.org/ns#\" xmlns:rdf=\"http://www.w3.org/1999/02/22-rdf-syntax-ns#\">\n   <cc:Work>\n    <dc:type rdf:resource=\"http://purl.org/dc/dcmitype/StillImage\"/>\n    <dc:date>2021-11-22T22:27:08.775442</dc:date>\n    <dc:format>image/svg+xml</dc:format>\n    <dc:creator>\n     <cc:Agent>\n      <dc:title>Matplotlib v3.5.0, https://matplotlib.org/</dc:title>\n     </cc:Agent>\n    </dc:creator>\n   </cc:Work>\n  </rdf:RDF>\n </metadata>\n <defs>\n  <style type=\"text/css\">*{stroke-linejoin: round; stroke-linecap: butt}</style>\n </defs>\n <g id=\"figure_1\">\n  <g id=\"patch_1\">\n   <path d=\"M 0 262.19625 \nL 362.5625 262.19625 \nL 362.5625 0 \nL 0 0 \nL 0 262.19625 \nz\n\" style=\"fill: none\"/>\n  </g>\n  <g id=\"axes_1\">\n   <g id=\"patch_2\">\n    <path d=\"M 20.5625 224.64 \nL 355.3625 224.64 \nL 355.3625 7.2 \nL 20.5625 7.2 \nz\n\" style=\"fill: #ffffff\"/>\n   </g>\n   <g id=\"matplotlib.axis_1\">\n    <g id=\"xtick_1\">\n     <g id=\"line2d_1\">\n      <defs>\n       <path id=\"mce12e1b23f\" d=\"M 0 0 \nL 0 3.5 \n\" style=\"stroke: #000000; stroke-width: 0.8\"/>\n      </defs>\n      <g>\n       <use xlink:href=\"#mce12e1b23f\" x=\"35.780682\" y=\"224.64\" style=\"stroke: #000000; stroke-width: 0.8\"/>\n      </g>\n     </g>\n     <g id=\"text_1\">\n      <!-- 2010 -->\n      <g transform=\"translate(23.055682 239.238437)scale(0.1 -0.1)\">\n       <defs>\n        <path id=\"DejaVuSans-32\" d=\"M 1228 531 \nL 3431 531 \nL 3431 0 \nL 469 0 \nL 469 531 \nQ 828 903 1448 1529 \nQ 2069 2156 2228 2338 \nQ 2531 2678 2651 2914 \nQ 2772 3150 2772 3378 \nQ 2772 3750 2511 3984 \nQ 2250 4219 1831 4219 \nQ 1534 4219 1204 4116 \nQ 875 4013 500 3803 \nL 500 4441 \nQ 881 4594 1212 4672 \nQ 1544 4750 1819 4750 \nQ 2544 4750 2975 4387 \nQ 3406 4025 3406 3419 \nQ 3406 3131 3298 2873 \nQ 3191 2616 2906 2266 \nQ 2828 2175 2409 1742 \nQ 1991 1309 1228 531 \nz\n\" transform=\"scale(0.015625)\"/>\n        <path id=\"DejaVuSans-30\" d=\"M 2034 4250 \nQ 1547 4250 1301 3770 \nQ 1056 3291 1056 2328 \nQ 1056 1369 1301 889 \nQ 1547 409 2034 409 \nQ 2525 409 2770 889 \nQ 3016 1369 3016 2328 \nQ 3016 3291 2770 3770 \nQ 2525 4250 2034 4250 \nz\nM 2034 4750 \nQ 2819 4750 3233 4129 \nQ 3647 3509 3647 2328 \nQ 3647 1150 3233 529 \nQ 2819 -91 2034 -91 \nQ 1250 -91 836 529 \nQ 422 1150 422 2328 \nQ 422 3509 836 4129 \nQ 1250 4750 2034 4750 \nz\n\" transform=\"scale(0.015625)\"/>\n        <path id=\"DejaVuSans-31\" d=\"M 794 531 \nL 1825 531 \nL 1825 4091 \nL 703 3866 \nL 703 4441 \nL 1819 4666 \nL 2450 4666 \nL 2450 531 \nL 3481 531 \nL 3481 0 \nL 794 0 \nL 794 531 \nz\n\" transform=\"scale(0.015625)\"/>\n       </defs>\n       <use xlink:href=\"#DejaVuSans-32\"/>\n       <use xlink:href=\"#DejaVuSans-30\" x=\"63.623047\"/>\n       <use xlink:href=\"#DejaVuSans-31\" x=\"127.246094\"/>\n       <use xlink:href=\"#DejaVuSans-30\" x=\"190.869141\"/>\n      </g>\n     </g>\n    </g>\n    <g id=\"xtick_2\">\n     <g id=\"line2d_2\">\n      <g>\n       <use xlink:href=\"#mce12e1b23f\" x=\"103.417045\" y=\"224.64\" style=\"stroke: #000000; stroke-width: 0.8\"/>\n      </g>\n     </g>\n     <g id=\"text_2\">\n      <!-- 2012 -->\n      <g transform=\"translate(90.692045 239.238437)scale(0.1 -0.1)\">\n       <use xlink:href=\"#DejaVuSans-32\"/>\n       <use xlink:href=\"#DejaVuSans-30\" x=\"63.623047\"/>\n       <use xlink:href=\"#DejaVuSans-31\" x=\"127.246094\"/>\n       <use xlink:href=\"#DejaVuSans-32\" x=\"190.869141\"/>\n      </g>\n     </g>\n    </g>\n    <g id=\"xtick_3\">\n     <g id=\"line2d_3\">\n      <g>\n       <use xlink:href=\"#mce12e1b23f\" x=\"171.053409\" y=\"224.64\" style=\"stroke: #000000; stroke-width: 0.8\"/>\n      </g>\n     </g>\n     <g id=\"text_3\">\n      <!-- 2014 -->\n      <g transform=\"translate(158.328409 239.238437)scale(0.1 -0.1)\">\n       <defs>\n        <path id=\"DejaVuSans-34\" d=\"M 2419 4116 \nL 825 1625 \nL 2419 1625 \nL 2419 4116 \nz\nM 2253 4666 \nL 3047 4666 \nL 3047 1625 \nL 3713 1625 \nL 3713 1100 \nL 3047 1100 \nL 3047 0 \nL 2419 0 \nL 2419 1100 \nL 313 1100 \nL 313 1709 \nL 2253 4666 \nz\n\" transform=\"scale(0.015625)\"/>\n       </defs>\n       <use xlink:href=\"#DejaVuSans-32\"/>\n       <use xlink:href=\"#DejaVuSans-30\" x=\"63.623047\"/>\n       <use xlink:href=\"#DejaVuSans-31\" x=\"127.246094\"/>\n       <use xlink:href=\"#DejaVuSans-34\" x=\"190.869141\"/>\n      </g>\n     </g>\n    </g>\n    <g id=\"xtick_4\">\n     <g id=\"line2d_4\">\n      <g>\n       <use xlink:href=\"#mce12e1b23f\" x=\"238.689773\" y=\"224.64\" style=\"stroke: #000000; stroke-width: 0.8\"/>\n      </g>\n     </g>\n     <g id=\"text_4\">\n      <!-- 2016 -->\n      <g transform=\"translate(225.964773 239.238437)scale(0.1 -0.1)\">\n       <defs>\n        <path id=\"DejaVuSans-36\" d=\"M 2113 2584 \nQ 1688 2584 1439 2293 \nQ 1191 2003 1191 1497 \nQ 1191 994 1439 701 \nQ 1688 409 2113 409 \nQ 2538 409 2786 701 \nQ 3034 994 3034 1497 \nQ 3034 2003 2786 2293 \nQ 2538 2584 2113 2584 \nz\nM 3366 4563 \nL 3366 3988 \nQ 3128 4100 2886 4159 \nQ 2644 4219 2406 4219 \nQ 1781 4219 1451 3797 \nQ 1122 3375 1075 2522 \nQ 1259 2794 1537 2939 \nQ 1816 3084 2150 3084 \nQ 2853 3084 3261 2657 \nQ 3669 2231 3669 1497 \nQ 3669 778 3244 343 \nQ 2819 -91 2113 -91 \nQ 1303 -91 875 529 \nQ 447 1150 447 2328 \nQ 447 3434 972 4092 \nQ 1497 4750 2381 4750 \nQ 2619 4750 2861 4703 \nQ 3103 4656 3366 4563 \nz\n\" transform=\"scale(0.015625)\"/>\n       </defs>\n       <use xlink:href=\"#DejaVuSans-32\"/>\n       <use xlink:href=\"#DejaVuSans-30\" x=\"63.623047\"/>\n       <use xlink:href=\"#DejaVuSans-31\" x=\"127.246094\"/>\n       <use xlink:href=\"#DejaVuSans-36\" x=\"190.869141\"/>\n      </g>\n     </g>\n    </g>\n    <g id=\"xtick_5\">\n     <g id=\"line2d_5\">\n      <g>\n       <use xlink:href=\"#mce12e1b23f\" x=\"306.326136\" y=\"224.64\" style=\"stroke: #000000; stroke-width: 0.8\"/>\n      </g>\n     </g>\n     <g id=\"text_5\">\n      <!-- 2018 -->\n      <g transform=\"translate(293.601136 239.238437)scale(0.1 -0.1)\">\n       <defs>\n        <path id=\"DejaVuSans-38\" d=\"M 2034 2216 \nQ 1584 2216 1326 1975 \nQ 1069 1734 1069 1313 \nQ 1069 891 1326 650 \nQ 1584 409 2034 409 \nQ 2484 409 2743 651 \nQ 3003 894 3003 1313 \nQ 3003 1734 2745 1975 \nQ 2488 2216 2034 2216 \nz\nM 1403 2484 \nQ 997 2584 770 2862 \nQ 544 3141 544 3541 \nQ 544 4100 942 4425 \nQ 1341 4750 2034 4750 \nQ 2731 4750 3128 4425 \nQ 3525 4100 3525 3541 \nQ 3525 3141 3298 2862 \nQ 3072 2584 2669 2484 \nQ 3125 2378 3379 2068 \nQ 3634 1759 3634 1313 \nQ 3634 634 3220 271 \nQ 2806 -91 2034 -91 \nQ 1263 -91 848 271 \nQ 434 634 434 1313 \nQ 434 1759 690 2068 \nQ 947 2378 1403 2484 \nz\nM 1172 3481 \nQ 1172 3119 1398 2916 \nQ 1625 2713 2034 2713 \nQ 2441 2713 2670 2916 \nQ 2900 3119 2900 3481 \nQ 2900 3844 2670 4047 \nQ 2441 4250 2034 4250 \nQ 1625 4250 1398 4047 \nQ 1172 3844 1172 3481 \nz\n\" transform=\"scale(0.015625)\"/>\n       </defs>\n       <use xlink:href=\"#DejaVuSans-32\"/>\n       <use xlink:href=\"#DejaVuSans-30\" x=\"63.623047\"/>\n       <use xlink:href=\"#DejaVuSans-31\" x=\"127.246094\"/>\n       <use xlink:href=\"#DejaVuSans-38\" x=\"190.869141\"/>\n      </g>\n     </g>\n    </g>\n    <g id=\"text_6\">\n     <!-- share -->\n     <g transform=\"translate(174.105469 252.916562)scale(0.1 -0.1)\">\n      <defs>\n       <path id=\"DejaVuSans-73\" d=\"M 2834 3397 \nL 2834 2853 \nQ 2591 2978 2328 3040 \nQ 2066 3103 1784 3103 \nQ 1356 3103 1142 2972 \nQ 928 2841 928 2578 \nQ 928 2378 1081 2264 \nQ 1234 2150 1697 2047 \nL 1894 2003 \nQ 2506 1872 2764 1633 \nQ 3022 1394 3022 966 \nQ 3022 478 2636 193 \nQ 2250 -91 1575 -91 \nQ 1294 -91 989 -36 \nQ 684 19 347 128 \nL 347 722 \nQ 666 556 975 473 \nQ 1284 391 1588 391 \nQ 1994 391 2212 530 \nQ 2431 669 2431 922 \nQ 2431 1156 2273 1281 \nQ 2116 1406 1581 1522 \nL 1381 1569 \nQ 847 1681 609 1914 \nQ 372 2147 372 2553 \nQ 372 3047 722 3315 \nQ 1072 3584 1716 3584 \nQ 2034 3584 2315 3537 \nQ 2597 3491 2834 3397 \nz\n\" transform=\"scale(0.015625)\"/>\n       <path id=\"DejaVuSans-68\" d=\"M 3513 2113 \nL 3513 0 \nL 2938 0 \nL 2938 2094 \nQ 2938 2591 2744 2837 \nQ 2550 3084 2163 3084 \nQ 1697 3084 1428 2787 \nQ 1159 2491 1159 1978 \nL 1159 0 \nL 581 0 \nL 581 4863 \nL 1159 4863 \nL 1159 2956 \nQ 1366 3272 1645 3428 \nQ 1925 3584 2291 3584 \nQ 2894 3584 3203 3211 \nQ 3513 2838 3513 2113 \nz\n\" transform=\"scale(0.015625)\"/>\n       <path id=\"DejaVuSans-61\" d=\"M 2194 1759 \nQ 1497 1759 1228 1600 \nQ 959 1441 959 1056 \nQ 959 750 1161 570 \nQ 1363 391 1709 391 \nQ 2188 391 2477 730 \nQ 2766 1069 2766 1631 \nL 2766 1759 \nL 2194 1759 \nz\nM 3341 1997 \nL 3341 0 \nL 2766 0 \nL 2766 531 \nQ 2569 213 2275 61 \nQ 1981 -91 1556 -91 \nQ 1019 -91 701 211 \nQ 384 513 384 1019 \nQ 384 1609 779 1909 \nQ 1175 2209 1959 2209 \nL 2766 2209 \nL 2766 2266 \nQ 2766 2663 2505 2880 \nQ 2244 3097 1772 3097 \nQ 1472 3097 1187 3025 \nQ 903 2953 641 2809 \nL 641 3341 \nQ 956 3463 1253 3523 \nQ 1550 3584 1831 3584 \nQ 2591 3584 2966 3190 \nQ 3341 2797 3341 1997 \nz\n\" transform=\"scale(0.015625)\"/>\n       <path id=\"DejaVuSans-72\" d=\"M 2631 2963 \nQ 2534 3019 2420 3045 \nQ 2306 3072 2169 3072 \nQ 1681 3072 1420 2755 \nQ 1159 2438 1159 1844 \nL 1159 0 \nL 581 0 \nL 581 3500 \nL 1159 3500 \nL 1159 2956 \nQ 1341 3275 1631 3429 \nQ 1922 3584 2338 3584 \nQ 2397 3584 2469 3576 \nQ 2541 3569 2628 3553 \nL 2631 2963 \nz\n\" transform=\"scale(0.015625)\"/>\n       <path id=\"DejaVuSans-65\" d=\"M 3597 1894 \nL 3597 1613 \nL 953 1613 \nQ 991 1019 1311 708 \nQ 1631 397 2203 397 \nQ 2534 397 2845 478 \nQ 3156 559 3463 722 \nL 3463 178 \nQ 3153 47 2828 -22 \nQ 2503 -91 2169 -91 \nQ 1331 -91 842 396 \nQ 353 884 353 1716 \nQ 353 2575 817 3079 \nQ 1281 3584 2069 3584 \nQ 2775 3584 3186 3129 \nQ 3597 2675 3597 1894 \nz\nM 3022 2063 \nQ 3016 2534 2758 2815 \nQ 2500 3097 2075 3097 \nQ 1594 3097 1305 2825 \nQ 1016 2553 972 2059 \nL 3022 2063 \nz\n\" transform=\"scale(0.015625)\"/>\n      </defs>\n      <use xlink:href=\"#DejaVuSans-73\"/>\n      <use xlink:href=\"#DejaVuSans-68\" x=\"52.099609\"/>\n      <use xlink:href=\"#DejaVuSans-61\" x=\"115.478516\"/>\n      <use xlink:href=\"#DejaVuSans-72\" x=\"176.757812\"/>\n      <use xlink:href=\"#DejaVuSans-65\" x=\"215.621094\"/>\n     </g>\n    </g>\n   </g>\n   <g id=\"matplotlib.axis_2\">\n    <g id=\"ytick_1\">\n     <g id=\"line2d_6\">\n      <defs>\n       <path id=\"m9cacdabdc8\" d=\"M 0 0 \nL -3.5 0 \n\" style=\"stroke: #000000; stroke-width: 0.8\"/>\n      </defs>\n      <g>\n       <use xlink:href=\"#m9cacdabdc8\" x=\"20.5625\" y=\"215.170523\" style=\"stroke: #000000; stroke-width: 0.8\"/>\n      </g>\n     </g>\n     <g id=\"text_7\">\n      <!-- 0 -->\n      <g transform=\"translate(7.2 218.969742)scale(0.1 -0.1)\">\n       <use xlink:href=\"#DejaVuSans-30\"/>\n      </g>\n     </g>\n    </g>\n    <g id=\"ytick_2\">\n     <g id=\"line2d_7\">\n      <g>\n       <use xlink:href=\"#m9cacdabdc8\" x=\"20.5625\" y=\"171.108005\" style=\"stroke: #000000; stroke-width: 0.8\"/>\n      </g>\n     </g>\n     <g id=\"text_8\">\n      <!-- 1 -->\n      <g transform=\"translate(7.2 174.907223)scale(0.1 -0.1)\">\n       <use xlink:href=\"#DejaVuSans-31\"/>\n      </g>\n     </g>\n    </g>\n    <g id=\"ytick_3\">\n     <g id=\"line2d_8\">\n      <g>\n       <use xlink:href=\"#m9cacdabdc8\" x=\"20.5625\" y=\"127.045486\" style=\"stroke: #000000; stroke-width: 0.8\"/>\n      </g>\n     </g>\n     <g id=\"text_9\">\n      <!-- 2 -->\n      <g transform=\"translate(7.2 130.844705)scale(0.1 -0.1)\">\n       <use xlink:href=\"#DejaVuSans-32\"/>\n      </g>\n     </g>\n    </g>\n    <g id=\"ytick_4\">\n     <g id=\"line2d_9\">\n      <g>\n       <use xlink:href=\"#m9cacdabdc8\" x=\"20.5625\" y=\"82.982968\" style=\"stroke: #000000; stroke-width: 0.8\"/>\n      </g>\n     </g>\n     <g id=\"text_10\">\n      <!-- 3 -->\n      <g transform=\"translate(7.2 86.782187)scale(0.1 -0.1)\">\n       <defs>\n        <path id=\"DejaVuSans-33\" d=\"M 2597 2516 \nQ 3050 2419 3304 2112 \nQ 3559 1806 3559 1356 \nQ 3559 666 3084 287 \nQ 2609 -91 1734 -91 \nQ 1441 -91 1130 -33 \nQ 819 25 488 141 \nL 488 750 \nQ 750 597 1062 519 \nQ 1375 441 1716 441 \nQ 2309 441 2620 675 \nQ 2931 909 2931 1356 \nQ 2931 1769 2642 2001 \nQ 2353 2234 1838 2234 \nL 1294 2234 \nL 1294 2753 \nL 1863 2753 \nQ 2328 2753 2575 2939 \nQ 2822 3125 2822 3475 \nQ 2822 3834 2567 4026 \nQ 2313 4219 1838 4219 \nQ 1578 4219 1281 4162 \nQ 984 4106 628 3988 \nL 628 4550 \nQ 988 4650 1302 4700 \nQ 1616 4750 1894 4750 \nQ 2613 4750 3031 4423 \nQ 3450 4097 3450 3541 \nQ 3450 3153 3228 2886 \nQ 3006 2619 2597 2516 \nz\n\" transform=\"scale(0.015625)\"/>\n       </defs>\n       <use xlink:href=\"#DejaVuSans-33\"/>\n      </g>\n     </g>\n    </g>\n    <g id=\"ytick_5\">\n     <g id=\"line2d_10\">\n      <g>\n       <use xlink:href=\"#m9cacdabdc8\" x=\"20.5625\" y=\"38.920449\" style=\"stroke: #000000; stroke-width: 0.8\"/>\n      </g>\n     </g>\n     <g id=\"text_11\">\n      <!-- 4 -->\n      <g transform=\"translate(7.2 42.719668)scale(0.1 -0.1)\">\n       <use xlink:href=\"#DejaVuSans-34\"/>\n      </g>\n     </g>\n    </g>\n   </g>\n   <g id=\"line2d_11\">\n    <path d=\"M 35.780682 214.756364 \nL 69.598864 213.769969 \nL 103.417045 212.585086 \nL 137.235227 211.716325 \nL 171.053409 200.230661 \nL 204.871591 173.282772 \nL 238.689773 152.599943 \nL 272.507955 109.556241 \nL 306.326136 22.892631 \nL 340.144318 17.083636 \n\" clip-path=\"url(#pac6ac526f3)\" style=\"fill: none; stroke: #1f77b4; stroke-width: 1.5; stroke-linecap: square\"/>\n   </g>\n   <g id=\"line2d_12\">\n    <path d=\"M 35.780682 214.712712 \nL 69.598864 208.974512 \nL 103.417045 198.736031 \nL 137.235227 187.554697 \nL 171.053409 183.103334 \nL 204.871591 186.043293 \nL 238.689773 175.141234 \nL 272.507955 164.477506 \nL 306.326136 123.329471 \nL 340.144318 130.75035 \n\" clip-path=\"url(#pac6ac526f3)\" style=\"fill: none; stroke: #ff7f0e; stroke-width: 1.5; stroke-linecap: square\"/>\n   </g>\n   <g id=\"line2d_13\">\n    <path d=\"M 35.780682 212.145477 \nL 69.598864 195.073656 \nL 103.417045 157.603344 \nL 137.235227 148.924023 \nL 171.053409 146.025937 \nL 204.871591 181.648868 \nL 238.689773 183.100363 \nL 272.507955 148.53474 \nL 306.326136 153.637362 \nL 340.144318 165.824734 \n\" clip-path=\"url(#pac6ac526f3)\" style=\"fill: none; stroke: #2ca02c; stroke-width: 1.5; stroke-linecap: square\"/>\n   </g>\n   <g id=\"patch_3\">\n    <path d=\"M 20.5625 224.64 \nL 20.5625 7.2 \n\" style=\"fill: none; stroke: #000000; stroke-width: 0.8; stroke-linejoin: miter; stroke-linecap: square\"/>\n   </g>\n   <g id=\"patch_4\">\n    <path d=\"M 355.3625 224.64 \nL 355.3625 7.2 \n\" style=\"fill: none; stroke: #000000; stroke-width: 0.8; stroke-linejoin: miter; stroke-linecap: square\"/>\n   </g>\n   <g id=\"patch_5\">\n    <path d=\"M 20.5625 224.64 \nL 355.3625 224.64 \n\" style=\"fill: none; stroke: #000000; stroke-width: 0.8; stroke-linejoin: miter; stroke-linecap: square\"/>\n   </g>\n   <g id=\"patch_6\">\n    <path d=\"M 20.5625 7.2 \nL 355.3625 7.2 \n\" style=\"fill: none; stroke: #000000; stroke-width: 0.8; stroke-linejoin: miter; stroke-linecap: square\"/>\n   </g>\n   <g id=\"legend_1\">\n    <g id=\"patch_7\">\n     <path d=\"M 27.5625 59.234375 \nL 127.276563 59.234375 \nQ 129.276563 59.234375 129.276563 57.234375 \nL 129.276563 14.2 \nQ 129.276563 12.2 127.276563 12.2 \nL 27.5625 12.2 \nQ 25.5625 12.2 25.5625 14.2 \nL 25.5625 57.234375 \nQ 25.5625 59.234375 27.5625 59.234375 \nz\n\" style=\"fill: #ffffff; opacity: 0.8; stroke: #cccccc; stroke-linejoin: miter\"/>\n    </g>\n    <g id=\"line2d_14\">\n     <path d=\"M 29.5625 20.298437 \nL 39.5625 20.298437 \nL 49.5625 20.298437 \n\" style=\"fill: none; stroke: #1f77b4; stroke-width: 1.5; stroke-linecap: square\"/>\n    </g>\n    <g id=\"text_12\">\n     <!-- China -->\n     <g transform=\"translate(57.5625 23.798437)scale(0.1 -0.1)\">\n      <defs>\n       <path id=\"DejaVuSans-43\" d=\"M 4122 4306 \nL 4122 3641 \nQ 3803 3938 3442 4084 \nQ 3081 4231 2675 4231 \nQ 1875 4231 1450 3742 \nQ 1025 3253 1025 2328 \nQ 1025 1406 1450 917 \nQ 1875 428 2675 428 \nQ 3081 428 3442 575 \nQ 3803 722 4122 1019 \nL 4122 359 \nQ 3791 134 3420 21 \nQ 3050 -91 2638 -91 \nQ 1578 -91 968 557 \nQ 359 1206 359 2328 \nQ 359 3453 968 4101 \nQ 1578 4750 2638 4750 \nQ 3056 4750 3426 4639 \nQ 3797 4528 4122 4306 \nz\n\" transform=\"scale(0.015625)\"/>\n       <path id=\"DejaVuSans-69\" d=\"M 603 3500 \nL 1178 3500 \nL 1178 0 \nL 603 0 \nL 603 3500 \nz\nM 603 4863 \nL 1178 4863 \nL 1178 4134 \nL 603 4134 \nL 603 4863 \nz\n\" transform=\"scale(0.015625)\"/>\n       <path id=\"DejaVuSans-6e\" d=\"M 3513 2113 \nL 3513 0 \nL 2938 0 \nL 2938 2094 \nQ 2938 2591 2744 2837 \nQ 2550 3084 2163 3084 \nQ 1697 3084 1428 2787 \nQ 1159 2491 1159 1978 \nL 1159 0 \nL 581 0 \nL 581 3500 \nL 1159 3500 \nL 1159 2956 \nQ 1366 3272 1645 3428 \nQ 1925 3584 2291 3584 \nQ 2894 3584 3203 3211 \nQ 3513 2838 3513 2113 \nz\n\" transform=\"scale(0.015625)\"/>\n      </defs>\n      <use xlink:href=\"#DejaVuSans-43\"/>\n      <use xlink:href=\"#DejaVuSans-68\" x=\"69.824219\"/>\n      <use xlink:href=\"#DejaVuSans-69\" x=\"133.203125\"/>\n      <use xlink:href=\"#DejaVuSans-6e\" x=\"160.986328\"/>\n      <use xlink:href=\"#DejaVuSans-61\" x=\"224.365234\"/>\n     </g>\n    </g>\n    <g id=\"line2d_15\">\n     <path d=\"M 29.5625 34.976562 \nL 39.5625 34.976562 \nL 49.5625 34.976562 \n\" style=\"fill: none; stroke: #ff7f0e; stroke-width: 1.5; stroke-linecap: square\"/>\n    </g>\n    <g id=\"text_13\">\n     <!-- United States -->\n     <g transform=\"translate(57.5625 38.476562)scale(0.1 -0.1)\">\n      <defs>\n       <path id=\"DejaVuSans-55\" d=\"M 556 4666 \nL 1191 4666 \nL 1191 1831 \nQ 1191 1081 1462 751 \nQ 1734 422 2344 422 \nQ 2950 422 3222 751 \nQ 3494 1081 3494 1831 \nL 3494 4666 \nL 4128 4666 \nL 4128 1753 \nQ 4128 841 3676 375 \nQ 3225 -91 2344 -91 \nQ 1459 -91 1007 375 \nQ 556 841 556 1753 \nL 556 4666 \nz\n\" transform=\"scale(0.015625)\"/>\n       <path id=\"DejaVuSans-74\" d=\"M 1172 4494 \nL 1172 3500 \nL 2356 3500 \nL 2356 3053 \nL 1172 3053 \nL 1172 1153 \nQ 1172 725 1289 603 \nQ 1406 481 1766 481 \nL 2356 481 \nL 2356 0 \nL 1766 0 \nQ 1100 0 847 248 \nQ 594 497 594 1153 \nL 594 3053 \nL 172 3053 \nL 172 3500 \nL 594 3500 \nL 594 4494 \nL 1172 4494 \nz\n\" transform=\"scale(0.015625)\"/>\n       <path id=\"DejaVuSans-64\" d=\"M 2906 2969 \nL 2906 4863 \nL 3481 4863 \nL 3481 0 \nL 2906 0 \nL 2906 525 \nQ 2725 213 2448 61 \nQ 2172 -91 1784 -91 \nQ 1150 -91 751 415 \nQ 353 922 353 1747 \nQ 353 2572 751 3078 \nQ 1150 3584 1784 3584 \nQ 2172 3584 2448 3432 \nQ 2725 3281 2906 2969 \nz\nM 947 1747 \nQ 947 1113 1208 752 \nQ 1469 391 1925 391 \nQ 2381 391 2643 752 \nQ 2906 1113 2906 1747 \nQ 2906 2381 2643 2742 \nQ 2381 3103 1925 3103 \nQ 1469 3103 1208 2742 \nQ 947 2381 947 1747 \nz\n\" transform=\"scale(0.015625)\"/>\n       <path id=\"DejaVuSans-20\" transform=\"scale(0.015625)\"/>\n       <path id=\"DejaVuSans-53\" d=\"M 3425 4513 \nL 3425 3897 \nQ 3066 4069 2747 4153 \nQ 2428 4238 2131 4238 \nQ 1616 4238 1336 4038 \nQ 1056 3838 1056 3469 \nQ 1056 3159 1242 3001 \nQ 1428 2844 1947 2747 \nL 2328 2669 \nQ 3034 2534 3370 2195 \nQ 3706 1856 3706 1288 \nQ 3706 609 3251 259 \nQ 2797 -91 1919 -91 \nQ 1588 -91 1214 -16 \nQ 841 59 441 206 \nL 441 856 \nQ 825 641 1194 531 \nQ 1563 422 1919 422 \nQ 2459 422 2753 634 \nQ 3047 847 3047 1241 \nQ 3047 1584 2836 1778 \nQ 2625 1972 2144 2069 \nL 1759 2144 \nQ 1053 2284 737 2584 \nQ 422 2884 422 3419 \nQ 422 4038 858 4394 \nQ 1294 4750 2059 4750 \nQ 2388 4750 2728 4690 \nQ 3069 4631 3425 4513 \nz\n\" transform=\"scale(0.015625)\"/>\n      </defs>\n      <use xlink:href=\"#DejaVuSans-55\"/>\n      <use xlink:href=\"#DejaVuSans-6e\" x=\"73.193359\"/>\n      <use xlink:href=\"#DejaVuSans-69\" x=\"136.572266\"/>\n      <use xlink:href=\"#DejaVuSans-74\" x=\"164.355469\"/>\n      <use xlink:href=\"#DejaVuSans-65\" x=\"203.564453\"/>\n      <use xlink:href=\"#DejaVuSans-64\" x=\"265.087891\"/>\n      <use xlink:href=\"#DejaVuSans-20\" x=\"328.564453\"/>\n      <use xlink:href=\"#DejaVuSans-53\" x=\"360.351562\"/>\n      <use xlink:href=\"#DejaVuSans-74\" x=\"423.828125\"/>\n      <use xlink:href=\"#DejaVuSans-61\" x=\"463.037109\"/>\n      <use xlink:href=\"#DejaVuSans-74\" x=\"524.316406\"/>\n      <use xlink:href=\"#DejaVuSans-65\" x=\"563.525391\"/>\n      <use xlink:href=\"#DejaVuSans-73\" x=\"625.048828\"/>\n     </g>\n    </g>\n    <g id=\"line2d_16\">\n     <path d=\"M 29.5625 49.654687 \nL 39.5625 49.654687 \nL 49.5625 49.654687 \n\" style=\"fill: none; stroke: #2ca02c; stroke-width: 1.5; stroke-linecap: square\"/>\n    </g>\n    <g id=\"text_14\">\n     <!-- Japan -->\n     <g transform=\"translate(57.5625 53.154687)scale(0.1 -0.1)\">\n      <defs>\n       <path id=\"DejaVuSans-4a\" d=\"M 628 4666 \nL 1259 4666 \nL 1259 325 \nQ 1259 -519 939 -900 \nQ 619 -1281 -91 -1281 \nL -331 -1281 \nL -331 -750 \nL -134 -750 \nQ 284 -750 456 -515 \nQ 628 -281 628 325 \nL 628 4666 \nz\n\" transform=\"scale(0.015625)\"/>\n       <path id=\"DejaVuSans-70\" d=\"M 1159 525 \nL 1159 -1331 \nL 581 -1331 \nL 581 3500 \nL 1159 3500 \nL 1159 2969 \nQ 1341 3281 1617 3432 \nQ 1894 3584 2278 3584 \nQ 2916 3584 3314 3078 \nQ 3713 2572 3713 1747 \nQ 3713 922 3314 415 \nQ 2916 -91 2278 -91 \nQ 1894 -91 1617 61 \nQ 1341 213 1159 525 \nz\nM 3116 1747 \nQ 3116 2381 2855 2742 \nQ 2594 3103 2138 3103 \nQ 1681 3103 1420 2742 \nQ 1159 2381 1159 1747 \nQ 1159 1113 1420 752 \nQ 1681 391 2138 391 \nQ 2594 391 2855 752 \nQ 3116 1113 3116 1747 \nz\n\" transform=\"scale(0.015625)\"/>\n      </defs>\n      <use xlink:href=\"#DejaVuSans-4a\"/>\n      <use xlink:href=\"#DejaVuSans-61\" x=\"29.492188\"/>\n      <use xlink:href=\"#DejaVuSans-70\" x=\"90.771484\"/>\n      <use xlink:href=\"#DejaVuSans-61\" x=\"154.248047\"/>\n      <use xlink:href=\"#DejaVuSans-6e\" x=\"215.527344\"/>\n     </g>\n    </g>\n   </g>\n  </g>\n </g>\n <defs>\n  <clipPath id=\"pac6ac526f3\">\n   <rect x=\"20.5625\" y=\"7.2\" width=\"334.8\" height=\"217.44\"/>\n  </clipPath>\n </defs>\n</svg>\n",
            "text/plain": [
              "<Figure size 432x288 with 1 Axes>"
            ]
          },
          "metadata": {
            "needs_background": "light"
          },
          "output_type": "display_data"
        }
      ],
      "source": [
        "# 데이터 시각화\n",
        "\n",
        "evShare.plot(y=COUNTRIES)\n",
        "plt.xlabel(\"share\")\n",
        "plt.show()"
      ]
    },
    {
      "cell_type": "markdown",
      "metadata": {},
      "source": [
        "전체적으로 전기자동차의 점유을은 지난 10년간 모든 주요 시장에서 증가한 것을 확인할 수 있다. 그런데 그 중 일본에서만 유일하게 예외적으로 전기차 판매량이 계속 증가와 감소를 반복하며 변화하는 양상이 나타났다.\n",
        "또한 전기자동차 점유율이 가장 높은 곳은 중국이었으며, 미국과 일본의 경우 비슷하게 나타났다."
      ]
    },
    {
      "cell_type": "markdown",
      "metadata": {},
      "source": [
        "### 2.2 4개의 주요 자동차 시장 지역에서는 CO2 배출량이 어떻게 나타날까?Em"
      ]
    },
    {
      "cell_type": "code",
      "execution_count": 108,
      "metadata": {},
      "outputs": [],
      "source": [
        "co2EmissionGrouped = co2Emission.groupby([\"Entity\", \"Year\"]).sum()"
      ]
    },
    {
      "cell_type": "code",
      "execution_count": 334,
      "metadata": {},
      "outputs": [],
      "source": [
        "def graphCo2(countries):\n",
        "    ax = plt.subplot()\n",
        "\n",
        "    for country in countries:\n",
        "        co2EmissionCountry = co2EmissionGrouped.loc[(country, 1900): (country, 2019)]\n",
        "        co2EmissionCountry.plot(y=\"Annual CO2 emissions (per capita)\", ax=ax, xticks=range(0, 120 + 1, 20))\n",
        "\n",
        "    ax.set_xticklabels(range(1900, 2020 + 1, 20))    \n",
        "    plt.legend(countries)\n",
        "    plt.title(\"Annual CO2 Emissions (per capita)\")"
      ]
    },
    {
      "cell_type": "code",
      "execution_count": 335,
      "metadata": {},
      "outputs": [
        {
          "data": {
            "image/png": "[encoded data removed]",
            "image/svg+xml": "<?xml version=\"1.0\" encoding=\"utf-8\" standalone=\"no\"?>\n<!DOCTYPE svg PUBLIC \"-//W3C//DTD SVG 1.1//EN\"\n  \"http://www.w3.org/Graphics/SVG/1.1/DTD/svg11.dtd\">\n<svg xmlns:xlink=\"http://www.w3.org/1999/xlink\" width=\"368.989496pt\" height=\"277.314375pt\" viewBox=\"0 0 368.989496 277.314375\" xmlns=\"http://www.w3.org/2000/svg\" version=\"1.1\">\n <metadata>\n  <rdf:RDF xmlns:dc=\"http://purl.org/dc/elements/1.1/\" xmlns:cc=\"http://creativecommons.org/ns#\" xmlns:rdf=\"http://www.w3.org/1999/02/22-rdf-syntax-ns#\">\n   <cc:Work>\n    <dc:type rdf:resource=\"http://purl.org/dc/dcmitype/StillImage\"/>\n    <dc:date>2021-11-23T12:14:30.199146</dc:date>\n    <dc:format>image/svg+xml</dc:format>\n    <dc:creator>\n     <cc:Agent>\n      <dc:title>Matplotlib v3.5.0, https://matplotlib.org/</dc:title>\n     </cc:Agent>\n    </dc:creator>\n   </cc:Work>\n  </rdf:RDF>\n </metadata>\n <defs>\n  <style type=\"text/css\">*{stroke-linejoin: round; stroke-linecap: butt}</style>\n </defs>\n <g id=\"figure_1\">\n  <g id=\"patch_1\">\n   <path d=\"M -0 277.314375 \nL 368.989496 277.314375 \nL 368.989496 0 \nL -0 0 \nL -0 277.314375 \nz\n\" style=\"fill: none\"/>\n  </g>\n  <g id=\"axes_1\">\n   <g id=\"patch_2\">\n    <path d=\"M 26.925 239.758125 \nL 361.725 239.758125 \nL 361.725 22.318125 \nL 26.925 22.318125 \nz\n\" style=\"fill: #ffffff\"/>\n   </g>\n   <g id=\"matplotlib.axis_1\">\n    <g id=\"xtick_1\">\n     <g id=\"line2d_1\">\n      <defs>\n       <path id=\"macf631d15b\" d=\"M 0 0 \nL 0 3.5 \n\" style=\"stroke: #000000; stroke-width: 0.8\"/>\n      </defs>\n      <g>\n       <use xlink:href=\"#macf631d15b\" x=\"42.143182\" y=\"239.758125\" style=\"stroke: #000000; stroke-width: 0.8\"/>\n      </g>\n     </g>\n     <g id=\"text_1\">\n      <!-- 1900 -->\n      <g transform=\"translate(29.418182 254.356562)scale(0.1 -0.1)\">\n       <defs>\n        <path id=\"DejaVuSans-31\" d=\"M 794 531 \nL 1825 531 \nL 1825 4091 \nL 703 3866 \nL 703 4441 \nL 1819 4666 \nL 2450 4666 \nL 2450 531 \nL 3481 531 \nL 3481 0 \nL 794 0 \nL 794 531 \nz\n\" transform=\"scale(0.015625)\"/>\n        <path id=\"DejaVuSans-39\" d=\"M 703 97 \nL 703 672 \nQ 941 559 1184 500 \nQ 1428 441 1663 441 \nQ 2288 441 2617 861 \nQ 2947 1281 2994 2138 \nQ 2813 1869 2534 1725 \nQ 2256 1581 1919 1581 \nQ 1219 1581 811 2004 \nQ 403 2428 403 3163 \nQ 403 3881 828 4315 \nQ 1253 4750 1959 4750 \nQ 2769 4750 3195 4129 \nQ 3622 3509 3622 2328 \nQ 3622 1225 3098 567 \nQ 2575 -91 1691 -91 \nQ 1453 -91 1209 -44 \nQ 966 3 703 97 \nz\nM 1959 2075 \nQ 2384 2075 2632 2365 \nQ 2881 2656 2881 3163 \nQ 2881 3666 2632 3958 \nQ 2384 4250 1959 4250 \nQ 1534 4250 1286 3958 \nQ 1038 3666 1038 3163 \nQ 1038 2656 1286 2365 \nQ 1534 2075 1959 2075 \nz\n\" transform=\"scale(0.015625)\"/>\n        <path id=\"DejaVuSans-30\" d=\"M 2034 4250 \nQ 1547 4250 1301 3770 \nQ 1056 3291 1056 2328 \nQ 1056 1369 1301 889 \nQ 1547 409 2034 409 \nQ 2525 409 2770 889 \nQ 3016 1369 3016 2328 \nQ 3016 3291 2770 3770 \nQ 2525 4250 2034 4250 \nz\nM 2034 4750 \nQ 2819 4750 3233 4129 \nQ 3647 3509 3647 2328 \nQ 3647 1150 3233 529 \nQ 2819 -91 2034 -91 \nQ 1250 -91 836 529 \nQ 422 1150 422 2328 \nQ 422 3509 836 4129 \nQ 1250 4750 2034 4750 \nz\n\" transform=\"scale(0.015625)\"/>\n       </defs>\n       <use xlink:href=\"#DejaVuSans-31\"/>\n       <use xlink:href=\"#DejaVuSans-39\" x=\"63.623047\"/>\n       <use xlink:href=\"#DejaVuSans-30\" x=\"127.246094\"/>\n       <use xlink:href=\"#DejaVuSans-30\" x=\"190.869141\"/>\n      </g>\n     </g>\n    </g>\n    <g id=\"xtick_2\">\n     <g id=\"line2d_2\">\n      <g>\n       <use xlink:href=\"#macf631d15b\" x=\"93.296734\" y=\"239.758125\" style=\"stroke: #000000; stroke-width: 0.8\"/>\n      </g>\n     </g>\n     <g id=\"text_2\">\n      <!-- 1920 -->\n      <g transform=\"translate(80.571734 254.356562)scale(0.1 -0.1)\">\n       <defs>\n        <path id=\"DejaVuSans-32\" d=\"M 1228 531 \nL 3431 531 \nL 3431 0 \nL 469 0 \nL 469 531 \nQ 828 903 1448 1529 \nQ 2069 2156 2228 2338 \nQ 2531 2678 2651 2914 \nQ 2772 3150 2772 3378 \nQ 2772 3750 2511 3984 \nQ 2250 4219 1831 4219 \nQ 1534 4219 1204 4116 \nQ 875 4013 500 3803 \nL 500 4441 \nQ 881 4594 1212 4672 \nQ 1544 4750 1819 4750 \nQ 2544 4750 2975 4387 \nQ 3406 4025 3406 3419 \nQ 3406 3131 3298 2873 \nQ 3191 2616 2906 2266 \nQ 2828 2175 2409 1742 \nQ 1991 1309 1228 531 \nz\n\" transform=\"scale(0.015625)\"/>\n       </defs>\n       <use xlink:href=\"#DejaVuSans-31\"/>\n       <use xlink:href=\"#DejaVuSans-39\" x=\"63.623047\"/>\n       <use xlink:href=\"#DejaVuSans-32\" x=\"127.246094\"/>\n       <use xlink:href=\"#DejaVuSans-30\" x=\"190.869141\"/>\n      </g>\n     </g>\n    </g>\n    <g id=\"xtick_3\">\n     <g id=\"line2d_3\">\n      <g>\n       <use xlink:href=\"#macf631d15b\" x=\"144.450286\" y=\"239.758125\" style=\"stroke: #000000; stroke-width: 0.8\"/>\n      </g>\n     </g>\n     <g id=\"text_3\">\n      <!-- 1940 -->\n      <g transform=\"translate(131.725286 254.356562)scale(0.1 -0.1)\">\n       <defs>\n        <path id=\"DejaVuSans-34\" d=\"M 2419 4116 \nL 825 1625 \nL 2419 1625 \nL 2419 4116 \nz\nM 2253 4666 \nL 3047 4666 \nL 3047 1625 \nL 3713 1625 \nL 3713 1100 \nL 3047 1100 \nL 3047 0 \nL 2419 0 \nL 2419 1100 \nL 313 1100 \nL 313 1709 \nL 2253 4666 \nz\n\" transform=\"scale(0.015625)\"/>\n       </defs>\n       <use xlink:href=\"#DejaVuSans-31\"/>\n       <use xlink:href=\"#DejaVuSans-39\" x=\"63.623047\"/>\n       <use xlink:href=\"#DejaVuSans-34\" x=\"127.246094\"/>\n       <use xlink:href=\"#DejaVuSans-30\" x=\"190.869141\"/>\n      </g>\n     </g>\n    </g>\n    <g id=\"xtick_4\">\n     <g id=\"line2d_4\">\n      <g>\n       <use xlink:href=\"#macf631d15b\" x=\"195.603839\" y=\"239.758125\" style=\"stroke: #000000; stroke-width: 0.8\"/>\n      </g>\n     </g>\n     <g id=\"text_4\">\n      <!-- 1960 -->\n      <g transform=\"translate(182.878839 254.356562)scale(0.1 -0.1)\">\n       <defs>\n        <path id=\"DejaVuSans-36\" d=\"M 2113 2584 \nQ 1688 2584 1439 2293 \nQ 1191 2003 1191 1497 \nQ 1191 994 1439 701 \nQ 1688 409 2113 409 \nQ 2538 409 2786 701 \nQ 3034 994 3034 1497 \nQ 3034 2003 2786 2293 \nQ 2538 2584 2113 2584 \nz\nM 3366 4563 \nL 3366 3988 \nQ 3128 4100 2886 4159 \nQ 2644 4219 2406 4219 \nQ 1781 4219 1451 3797 \nQ 1122 3375 1075 2522 \nQ 1259 2794 1537 2939 \nQ 1816 3084 2150 3084 \nQ 2853 3084 3261 2657 \nQ 3669 2231 3669 1497 \nQ 3669 778 3244 343 \nQ 2819 -91 2113 -91 \nQ 1303 -91 875 529 \nQ 447 1150 447 2328 \nQ 447 3434 972 4092 \nQ 1497 4750 2381 4750 \nQ 2619 4750 2861 4703 \nQ 3103 4656 3366 4563 \nz\n\" transform=\"scale(0.015625)\"/>\n       </defs>\n       <use xlink:href=\"#DejaVuSans-31\"/>\n       <use xlink:href=\"#DejaVuSans-39\" x=\"63.623047\"/>\n       <use xlink:href=\"#DejaVuSans-36\" x=\"127.246094\"/>\n       <use xlink:href=\"#DejaVuSans-30\" x=\"190.869141\"/>\n      </g>\n     </g>\n    </g>\n    <g id=\"xtick_5\">\n     <g id=\"line2d_5\">\n      <g>\n       <use xlink:href=\"#macf631d15b\" x=\"246.757391\" y=\"239.758125\" style=\"stroke: #000000; stroke-width: 0.8\"/>\n      </g>\n     </g>\n     <g id=\"text_5\">\n      <!-- 1980 -->\n      <g transform=\"translate(234.032391 254.356562)scale(0.1 -0.1)\">\n       <defs>\n        <path id=\"DejaVuSans-38\" d=\"M 2034 2216 \nQ 1584 2216 1326 1975 \nQ 1069 1734 1069 1313 \nQ 1069 891 1326 650 \nQ 1584 409 2034 409 \nQ 2484 409 2743 651 \nQ 3003 894 3003 1313 \nQ 3003 1734 2745 1975 \nQ 2488 2216 2034 2216 \nz\nM 1403 2484 \nQ 997 2584 770 2862 \nQ 544 3141 544 3541 \nQ 544 4100 942 4425 \nQ 1341 4750 2034 4750 \nQ 2731 4750 3128 4425 \nQ 3525 4100 3525 3541 \nQ 3525 3141 3298 2862 \nQ 3072 2584 2669 2484 \nQ 3125 2378 3379 2068 \nQ 3634 1759 3634 1313 \nQ 3634 634 3220 271 \nQ 2806 -91 2034 -91 \nQ 1263 -91 848 271 \nQ 434 634 434 1313 \nQ 434 1759 690 2068 \nQ 947 2378 1403 2484 \nz\nM 1172 3481 \nQ 1172 3119 1398 2916 \nQ 1625 2713 2034 2713 \nQ 2441 2713 2670 2916 \nQ 2900 3119 2900 3481 \nQ 2900 3844 2670 4047 \nQ 2441 4250 2034 4250 \nQ 1625 4250 1398 4047 \nQ 1172 3844 1172 3481 \nz\n\" transform=\"scale(0.015625)\"/>\n       </defs>\n       <use xlink:href=\"#DejaVuSans-31\"/>\n       <use xlink:href=\"#DejaVuSans-39\" x=\"63.623047\"/>\n       <use xlink:href=\"#DejaVuSans-38\" x=\"127.246094\"/>\n       <use xlink:href=\"#DejaVuSans-30\" x=\"190.869141\"/>\n      </g>\n     </g>\n    </g>\n    <g id=\"xtick_6\">\n     <g id=\"line2d_6\">\n      <g>\n       <use xlink:href=\"#macf631d15b\" x=\"297.910943\" y=\"239.758125\" style=\"stroke: #000000; stroke-width: 0.8\"/>\n      </g>\n     </g>\n     <g id=\"text_6\">\n      <!-- 2000 -->\n      <g transform=\"translate(285.185943 254.356562)scale(0.1 -0.1)\">\n       <use xlink:href=\"#DejaVuSans-32\"/>\n       <use xlink:href=\"#DejaVuSans-30\" x=\"63.623047\"/>\n       <use xlink:href=\"#DejaVuSans-30\" x=\"127.246094\"/>\n       <use xlink:href=\"#DejaVuSans-30\" x=\"190.869141\"/>\n      </g>\n     </g>\n    </g>\n    <g id=\"xtick_7\">\n     <g id=\"line2d_7\">\n      <g>\n       <use xlink:href=\"#macf631d15b\" x=\"349.064496\" y=\"239.758125\" style=\"stroke: #000000; stroke-width: 0.8\"/>\n      </g>\n     </g>\n     <g id=\"text_7\">\n      <!-- 2020 -->\n      <g transform=\"translate(336.339496 254.356562)scale(0.1 -0.1)\">\n       <use xlink:href=\"#DejaVuSans-32\"/>\n       <use xlink:href=\"#DejaVuSans-30\" x=\"63.623047\"/>\n       <use xlink:href=\"#DejaVuSans-32\" x=\"127.246094\"/>\n       <use xlink:href=\"#DejaVuSans-30\" x=\"190.869141\"/>\n      </g>\n     </g>\n    </g>\n    <g id=\"text_8\">\n     <!-- Entity,Year -->\n     <g transform=\"translate(167.551563 268.034687)scale(0.1 -0.1)\">\n      <defs>\n       <path id=\"DejaVuSans-45\" d=\"M 628 4666 \nL 3578 4666 \nL 3578 4134 \nL 1259 4134 \nL 1259 2753 \nL 3481 2753 \nL 3481 2222 \nL 1259 2222 \nL 1259 531 \nL 3634 531 \nL 3634 0 \nL 628 0 \nL 628 4666 \nz\n\" transform=\"scale(0.015625)\"/>\n       <path id=\"DejaVuSans-6e\" d=\"M 3513 2113 \nL 3513 0 \nL 2938 0 \nL 2938 2094 \nQ 2938 2591 2744 2837 \nQ 2550 3084 2163 3084 \nQ 1697 3084 1428 2787 \nQ 1159 2491 1159 1978 \nL 1159 0 \nL 581 0 \nL 581 3500 \nL 1159 3500 \nL 1159 2956 \nQ 1366 3272 1645 3428 \nQ 1925 3584 2291 3584 \nQ 2894 3584 3203 3211 \nQ 3513 2838 3513 2113 \nz\n\" transform=\"scale(0.015625)\"/>\n       <path id=\"DejaVuSans-74\" d=\"M 1172 4494 \nL 1172 3500 \nL 2356 3500 \nL 2356 3053 \nL 1172 3053 \nL 1172 1153 \nQ 1172 725 1289 603 \nQ 1406 481 1766 481 \nL 2356 481 \nL 2356 0 \nL 1766 0 \nQ 1100 0 847 248 \nQ 594 497 594 1153 \nL 594 3053 \nL 172 3053 \nL 172 3500 \nL 594 3500 \nL 594 4494 \nL 1172 4494 \nz\n\" transform=\"scale(0.015625)\"/>\n       <path id=\"DejaVuSans-69\" d=\"M 603 3500 \nL 1178 3500 \nL 1178 0 \nL 603 0 \nL 603 3500 \nz\nM 603 4863 \nL 1178 4863 \nL 1178 4134 \nL 603 4134 \nL 603 4863 \nz\n\" transform=\"scale(0.015625)\"/>\n       <path id=\"DejaVuSans-79\" d=\"M 2059 -325 \nQ 1816 -950 1584 -1140 \nQ 1353 -1331 966 -1331 \nL 506 -1331 \nL 506 -850 \nL 844 -850 \nQ 1081 -850 1212 -737 \nQ 1344 -625 1503 -206 \nL 1606 56 \nL 191 3500 \nL 800 3500 \nL 1894 763 \nL 2988 3500 \nL 3597 3500 \nL 2059 -325 \nz\n\" transform=\"scale(0.015625)\"/>\n       <path id=\"DejaVuSans-2c\" d=\"M 750 794 \nL 1409 794 \nL 1409 256 \nL 897 -744 \nL 494 -744 \nL 750 256 \nL 750 794 \nz\n\" transform=\"scale(0.015625)\"/>\n       <path id=\"DejaVuSans-59\" d=\"M -13 4666 \nL 666 4666 \nL 1959 2747 \nL 3244 4666 \nL 3922 4666 \nL 2272 2222 \nL 2272 0 \nL 1638 0 \nL 1638 2222 \nL -13 4666 \nz\n\" transform=\"scale(0.015625)\"/>\n       <path id=\"DejaVuSans-65\" d=\"M 3597 1894 \nL 3597 1613 \nL 953 1613 \nQ 991 1019 1311 708 \nQ 1631 397 2203 397 \nQ 2534 397 2845 478 \nQ 3156 559 3463 722 \nL 3463 178 \nQ 3153 47 2828 -22 \nQ 2503 -91 2169 -91 \nQ 1331 -91 842 396 \nQ 353 884 353 1716 \nQ 353 2575 817 3079 \nQ 1281 3584 2069 3584 \nQ 2775 3584 3186 3129 \nQ 3597 2675 3597 1894 \nz\nM 3022 2063 \nQ 3016 2534 2758 2815 \nQ 2500 3097 2075 3097 \nQ 1594 3097 1305 2825 \nQ 1016 2553 972 2059 \nL 3022 2063 \nz\n\" transform=\"scale(0.015625)\"/>\n       <path id=\"DejaVuSans-61\" d=\"M 2194 1759 \nQ 1497 1759 1228 1600 \nQ 959 1441 959 1056 \nQ 959 750 1161 570 \nQ 1363 391 1709 391 \nQ 2188 391 2477 730 \nQ 2766 1069 2766 1631 \nL 2766 1759 \nL 2194 1759 \nz\nM 3341 1997 \nL 3341 0 \nL 2766 0 \nL 2766 531 \nQ 2569 213 2275 61 \nQ 1981 -91 1556 -91 \nQ 1019 -91 701 211 \nQ 384 513 384 1019 \nQ 384 1609 779 1909 \nQ 1175 2209 1959 2209 \nL 2766 2209 \nL 2766 2266 \nQ 2766 2663 2505 2880 \nQ 2244 3097 1772 3097 \nQ 1472 3097 1187 3025 \nQ 903 2953 641 2809 \nL 641 3341 \nQ 956 3463 1253 3523 \nQ 1550 3584 1831 3584 \nQ 2591 3584 2966 3190 \nQ 3341 2797 3341 1997 \nz\n\" transform=\"scale(0.015625)\"/>\n       <path id=\"DejaVuSans-72\" d=\"M 2631 2963 \nQ 2534 3019 2420 3045 \nQ 2306 3072 2169 3072 \nQ 1681 3072 1420 2755 \nQ 1159 2438 1159 1844 \nL 1159 0 \nL 581 0 \nL 581 3500 \nL 1159 3500 \nL 1159 2956 \nQ 1341 3275 1631 3429 \nQ 1922 3584 2338 3584 \nQ 2397 3584 2469 3576 \nQ 2541 3569 2628 3553 \nL 2631 2963 \nz\n\" transform=\"scale(0.015625)\"/>\n      </defs>\n      <use xlink:href=\"#DejaVuSans-45\"/>\n      <use xlink:href=\"#DejaVuSans-6e\" x=\"63.183594\"/>\n      <use xlink:href=\"#DejaVuSans-74\" x=\"126.5625\"/>\n      <use xlink:href=\"#DejaVuSans-69\" x=\"165.771484\"/>\n      <use xlink:href=\"#DejaVuSans-74\" x=\"193.554688\"/>\n      <use xlink:href=\"#DejaVuSans-79\" x=\"232.763672\"/>\n      <use xlink:href=\"#DejaVuSans-2c\" x=\"291.943359\"/>\n      <use xlink:href=\"#DejaVuSans-59\" x=\"323.730469\"/>\n      <use xlink:href=\"#DejaVuSans-65\" x=\"371.564453\"/>\n      <use xlink:href=\"#DejaVuSans-61\" x=\"433.087891\"/>\n      <use xlink:href=\"#DejaVuSans-72\" x=\"494.367188\"/>\n     </g>\n    </g>\n   </g>\n   <g id=\"matplotlib.axis_2\">\n    <g id=\"ytick_1\">\n     <g id=\"line2d_8\">\n      <defs>\n       <path id=\"m8977353958\" d=\"M 0 0 \nL -3.5 0 \n\" style=\"stroke: #000000; stroke-width: 0.8\"/>\n      </defs>\n      <g>\n       <use xlink:href=\"#m8977353958\" x=\"26.925\" y=\"229.876267\" style=\"stroke: #000000; stroke-width: 0.8\"/>\n      </g>\n     </g>\n     <g id=\"text_9\">\n      <!-- 0 -->\n      <g transform=\"translate(13.5625 233.675485)scale(0.1 -0.1)\">\n       <use xlink:href=\"#DejaVuSans-30\"/>\n      </g>\n     </g>\n    </g>\n    <g id=\"ytick_2\">\n     <g id=\"line2d_9\">\n      <g>\n       <use xlink:href=\"#m8977353958\" x=\"26.925\" y=\"185.428061\" style=\"stroke: #000000; stroke-width: 0.8\"/>\n      </g>\n     </g>\n     <g id=\"text_10\">\n      <!-- 5 -->\n      <g transform=\"translate(13.5625 189.22728)scale(0.1 -0.1)\">\n       <defs>\n        <path id=\"DejaVuSans-35\" d=\"M 691 4666 \nL 3169 4666 \nL 3169 4134 \nL 1269 4134 \nL 1269 2991 \nQ 1406 3038 1543 3061 \nQ 1681 3084 1819 3084 \nQ 2600 3084 3056 2656 \nQ 3513 2228 3513 1497 \nQ 3513 744 3044 326 \nQ 2575 -91 1722 -91 \nQ 1428 -91 1123 -41 \nQ 819 9 494 109 \nL 494 744 \nQ 775 591 1075 516 \nQ 1375 441 1709 441 \nQ 2250 441 2565 725 \nQ 2881 1009 2881 1497 \nQ 2881 1984 2565 2268 \nQ 2250 2553 1709 2553 \nQ 1456 2553 1204 2497 \nQ 953 2441 691 2322 \nL 691 4666 \nz\n\" transform=\"scale(0.015625)\"/>\n       </defs>\n       <use xlink:href=\"#DejaVuSans-35\"/>\n      </g>\n     </g>\n    </g>\n    <g id=\"ytick_3\">\n     <g id=\"line2d_10\">\n      <g>\n       <use xlink:href=\"#m8977353958\" x=\"26.925\" y=\"140.979855\" style=\"stroke: #000000; stroke-width: 0.8\"/>\n      </g>\n     </g>\n     <g id=\"text_11\">\n      <!-- 10 -->\n      <g transform=\"translate(7.2 144.779074)scale(0.1 -0.1)\">\n       <use xlink:href=\"#DejaVuSans-31\"/>\n       <use xlink:href=\"#DejaVuSans-30\" x=\"63.623047\"/>\n      </g>\n     </g>\n    </g>\n    <g id=\"ytick_4\">\n     <g id=\"line2d_11\">\n      <g>\n       <use xlink:href=\"#m8977353958\" x=\"26.925\" y=\"96.531649\" style=\"stroke: #000000; stroke-width: 0.8\"/>\n      </g>\n     </g>\n     <g id=\"text_12\">\n      <!-- 15 -->\n      <g transform=\"translate(7.2 100.330868)scale(0.1 -0.1)\">\n       <use xlink:href=\"#DejaVuSans-31\"/>\n       <use xlink:href=\"#DejaVuSans-35\" x=\"63.623047\"/>\n      </g>\n     </g>\n    </g>\n    <g id=\"ytick_5\">\n     <g id=\"line2d_12\">\n      <g>\n       <use xlink:href=\"#m8977353958\" x=\"26.925\" y=\"52.083444\" style=\"stroke: #000000; stroke-width: 0.8\"/>\n      </g>\n     </g>\n     <g id=\"text_13\">\n      <!-- 20 -->\n      <g transform=\"translate(7.2 55.882663)scale(0.1 -0.1)\">\n       <use xlink:href=\"#DejaVuSans-32\"/>\n       <use xlink:href=\"#DejaVuSans-30\" x=\"63.623047\"/>\n      </g>\n     </g>\n    </g>\n   </g>\n   <g id=\"line2d_13\">\n    <path d=\"M 42.143182 229.874489 \nL 44.700859 229.833596 \nL 47.258537 229.830929 \nL 49.816215 229.826485 \nL 52.373892 229.510013 \nL 54.93157 229.518014 \nL 57.489248 229.395337 \nL 60.046925 229.438007 \nL 62.604603 229.485122 \nL 65.16228 229.301107 \nL 67.719958 229.67625 \nL 70.277636 229.65847 \nL 72.835313 229.574019 \nL 75.392991 229.558017 \nL 77.950668 229.524237 \nL 80.508346 229.492234 \nL 83.066024 229.473566 \nL 85.623701 229.415783 \nL 88.181379 229.372224 \nL 90.739057 229.403338 \nL 93.296734 229.380225 \nL 95.854412 229.279772 \nL 98.412089 229.228212 \nL 100.969767 229.264659 \nL 103.527445 229.333109 \nL 106.085122 229.262881 \nL 108.6428 229.254881 \nL 111.200477 229.226434 \nL 113.758155 229.191764 \nL 116.315833 229.15265 \nL 118.87351 229.18643 \nL 121.431188 229.125981 \nL 123.988866 229.005971 \nL 126.546543 228.864625 \nL 129.104221 228.741948 \nL 131.661898 228.8264 \nL 134.219576 228.922408 \nL 136.777254 228.725058 \nL 139.334931 228.408587 \nL 141.892609 228.052112 \nL 144.450286 227.956993 \nL 147.007964 228.245017 \nL 149.565642 228.244128 \nL 152.123319 229.039751 \nL 154.680997 229.359778 \nL 157.238675 229.325109 \nL 159.796352 229.4869 \nL 162.35403 228.913518 \nL 164.911707 228.61216 \nL 167.469385 228.283243 \nL 170.027063 227.923212 \nL 172.58474 227.871652 \nL 175.142418 227.50451 \nL 177.700095 227.10981 \nL 180.257773 226.788894 \nL 182.815451 226.270628 \nL 185.373128 222.592984 \nL 187.930806 220.0301 \nL 190.488484 219.123357 \nL 193.046161 222.315627 \nL 195.603839 223.886426 \nL 198.161516 224.027772 \nL 200.719194 224.094444 \nL 203.276872 223.735302 \nL 205.834549 223.297043 \nL 208.392227 224.511368 \nL 210.949905 224.258013 \nL 213.507582 223.173477 \nL 216.06526 221.19731 \nL 218.622937 220.353683 \nL 221.180615 219.973206 \nL 223.738293 219.798969 \nL 226.29597 219.81586 \nL 228.853648 218.520639 \nL 231.411325 218.310843 \nL 233.969003 217.432547 \nL 236.526681 216.226223 \nL 239.084358 216.123103 \nL 241.642036 216.591587 \nL 244.199714 216.93206 \nL 246.757391 215.982646 \nL 249.315069 215.427933 \nL 251.872746 214.378066 \nL 254.430424 213.36198 \nL 256.988102 212.793932 \nL 259.545779 211.893412 \nL 262.103457 210.921774 \nL 264.661134 210.968889 \nL 267.218812 211.106678 \nL 269.77649 210.455068 \nL 272.334167 209.759009 \nL 274.891845 208.566908 \nL 277.449523 207.471704 \nL 280.0072 205.820898 \nL 282.564878 204.99505 \nL 285.122555 205.150619 \nL 287.680233 206.390724 \nL 290.237911 206.635189 \nL 292.795588 206.186262 \nL 295.353266 205.824453 \nL 297.910943 203.543372 \nL 300.468621 199.158112 \nL 303.026299 194.778185 \nL 305.583976 190.6205 \nL 308.141654 186.778397 \nL 310.699332 183.786144 \nL 313.257009 180.6401 \nL 315.814687 178.370575 \nL 318.372364 173.915976 \nL 320.930042 168.339504 \nL 323.48772 167.094954 \nL 326.045397 166.309999 \nL 328.603075 166.44601 \nL 331.160752 167.646112 \nL 333.71843 168.767095 \nL 336.276108 167.815904 \nL 338.833785 165.8024 \nL 341.391463 164.836985 \n\" clip-path=\"url(#pd9796d2b8f)\" style=\"fill: none; stroke: #1f77b4; stroke-width: 1.5; stroke-linecap: square\"/>\n   </g>\n   <g id=\"line2d_14\">\n    <path d=\"M 42.143182 155.076159 \nL 44.700859 150.034844 \nL 47.258537 146.946582 \nL 49.816215 134.776664 \nL 52.373892 137.947599 \nL 54.93157 129.100628 \nL 57.489248 126.191937 \nL 60.046925 111.718712 \nL 62.604603 128.590362 \nL 65.16228 119.831399 \nL 67.719958 111.959622 \nL 70.277636 115.10211 \nL 72.835313 109.276728 \nL 75.392991 102.287692 \nL 77.950668 115.011435 \nL 80.508346 112.423661 \nL 83.066024 101.340945 \nL 85.623701 90.548921 \nL 88.181379 86.19922 \nL 90.739057 109.997678 \nL 93.296734 91.00496 \nL 95.854412 117.765446 \nL 98.412089 118.441948 \nL 100.969767 84.795545 \nL 103.527445 101.853878 \nL 106.085122 99.266992 \nL 108.6428 90.332903 \nL 111.200477 95.472004 \nL 113.758155 99.684805 \nL 116.315833 92.067272 \nL 118.87351 108.810022 \nL 121.431188 127.870301 \nL 123.988866 144.203239 \nL 126.546543 138.640991 \nL 129.104221 133.410326 \nL 131.661898 130.342511 \nL 134.219576 116.394664 \nL 136.777254 111.977401 \nL 139.334931 130.882112 \nL 141.892609 121.659109 \nL 144.450286 109.622535 \nL 147.007964 100.260854 \nL 149.565642 92.179281 \nL 152.123319 89.506166 \nL 154.680997 80.896549 \nL 157.238675 88.0696 \nL 159.796352 96.064943 \nL 162.35403 84.549302 \nL 164.911707 80.965888 \nL 167.469385 106.8463 \nL 170.027063 87.61445 \nL 172.58474 85.176022 \nL 175.142418 90.972957 \nL 177.700095 89.877753 \nL 180.257773 98.730058 \nL 182.815451 88.605645 \nL 185.373128 84.358175 \nL 187.930806 88.063377 \nL 190.488484 94.805281 \nL 193.046161 92.906454 \nL 195.603839 91.945484 \nL 198.161516 94.508367 \nL 200.719194 91.493001 \nL 203.276872 87.30598 \nL 205.834549 82.887828 \nL 208.392227 78.579908 \nL 210.949905 72.632738 \nL 213.507582 68.338153 \nL 216.06526 63.979562 \nL 218.622937 57.146094 \nL 221.180615 45.75313 \nL 223.738293 46.298065 \nL 226.29597 39.270804 \nL 228.853648 32.201761 \nL 231.411325 40.679812 \nL 233.969003 48.171113 \nL 236.526681 38.981891 \nL 239.084358 35.084672 \nL 241.642036 34.847319 \nL 244.199714 34.034805 \nL 246.757391 43.608949 \nL 249.315069 50.031715 \nL 251.872746 60.803293 \nL 254.430424 63.059484 \nL 256.988102 55.934436 \nL 259.545779 57.909715 \nL 262.103457 59.117817 \nL 264.661134 54.825898 \nL 267.218812 48.38802 \nL 269.77649 47.192363 \nL 272.334167 49.578343 \nL 274.891845 53.231096 \nL 277.449523 51.126029 \nL 280.0072 49.456555 \nL 282.564878 48.219117 \nL 285.122555 48.119553 \nL 287.680233 44.003649 \nL 290.237911 43.832079 \nL 292.795588 44.7326 \nL 295.353266 44.625035 \nL 297.910943 40.20955 \nL 300.468621 45.439326 \nL 303.026299 45.858028 \nL 305.583976 45.472218 \nL 308.141654 43.967201 \nL 310.699332 45.012623 \nL 313.257009 49.2032 \nL 315.814687 48.569369 \nL 318.372364 56.642052 \nL 320.930042 70.887702 \nL 323.48772 66.594894 \nL 326.045397 71.812224 \nL 328.603075 78.754145 \nL 331.160752 76.070362 \nL 333.71843 75.813452 \nL 336.276108 81.056562 \nL 338.833785 85.447156 \nL 341.391463 87.466882 \nL 343.949141 83.783904 \nL 346.506818 87.890918 \n\" clip-path=\"url(#pd9796d2b8f)\" style=\"fill: none; stroke: #ff7f0e; stroke-width: 1.5; stroke-linecap: square\"/>\n   </g>\n   <g id=\"line2d_15\">\n    <path d=\"M 42.143182 225.937267 \nL 44.700859 225.202982 \nL 47.258537 224.922959 \nL 49.816215 224.813616 \nL 52.373892 224.237567 \nL 54.93157 224.132669 \nL 57.489248 223.64285 \nL 60.046925 223.297932 \nL 62.604603 222.897898 \nL 65.16228 222.863229 \nL 67.719958 222.739663 \nL 70.277636 221.958263 \nL 72.835313 221.152862 \nL 75.392991 220.374129 \nL 77.950668 219.846084 \nL 80.508346 220.847947 \nL 83.066024 219.982096 \nL 85.623701 218.615758 \nL 88.181379 218.080602 \nL 90.739057 216.980064 \nL 93.296734 217.933923 \nL 95.854412 219.276258 \nL 98.412089 218.695765 \nL 100.969767 218.160609 \nL 103.527445 217.799689 \nL 106.085122 217.567669 \nL 108.6428 217.650343 \nL 111.200477 216.816495 \nL 113.758155 216.58003 \nL 116.315833 216.407571 \nL 118.87351 217.809468 \nL 121.431188 219.110022 \nL 123.988866 219.238922 \nL 126.546543 217.574781 \nL 129.104221 216.420017 \nL 131.661898 215.91064 \nL 134.219576 214.731874 \nL 136.777254 213.826019 \nL 139.334931 213.233969 \nL 141.892609 213.946919 \nL 144.450286 211.017782 \nL 147.007964 211.1049 \nL 149.565642 212.175213 \nL 152.123319 212.082761 \nL 154.680997 213.71401 \nL 157.238675 221.071077 \nL 159.796352 223.903317 \nL 162.35403 222.049827 \nL 164.911707 220.167889 \nL 167.469385 219.17225 \nL 170.027063 218.867335 \nL 172.58474 216.860054 \nL 175.142418 216.342677 \nL 177.700095 214.959449 \nL 180.257773 215.474159 \nL 182.815451 215.707957 \nL 185.373128 214.010035 \nL 187.930806 211.495156 \nL 190.488484 212.347672 \nL 193.046161 211.421372 \nL 195.603839 207.812177 \nL 198.161516 203.291795 \nL 200.719194 202.602848 \nL 203.276872 199.918176 \nL 205.834549 197.113494 \nL 208.392227 194.978202 \nL 210.949905 192.455322 \nL 213.507582 186.73306 \nL 216.06526 180.962794 \nL 218.622937 173.769297 \nL 221.180615 164.813872 \nL 223.738293 163.342636 \nL 226.29597 159.717441 \nL 228.853648 155.671765 \nL 231.411325 156.667405 \nL 233.969003 161.194899 \nL 236.526681 158.937819 \nL 239.084358 157.627486 \nL 241.642036 160.711303 \nL 244.199714 157.379465 \nL 246.757391 158.583123 \nL 249.315069 160.482839 \nL 251.872746 163.1764 \nL 254.430424 164.85032 \nL 256.988102 161.138894 \nL 259.545779 163.330191 \nL 262.103457 163.679554 \nL 264.661134 164.685861 \nL 267.218812 158.990268 \nL 269.77649 156.665627 \nL 272.334167 147.194603 \nL 274.891845 146.644335 \nL 277.449523 146.222966 \nL 280.0072 146.972362 \nL 282.564878 143.324943 \nL 285.122555 142.670665 \nL 287.680233 142.026166 \nL 290.237911 142.671554 \nL 292.795588 145.607802 \nL 295.353266 143.18982 \nL 297.910943 141.737253 \nL 300.468621 142.884905 \nL 303.026299 140.966521 \nL 305.583976 140.501592 \nL 308.141654 140.922961 \nL 310.699332 140.487369 \nL 313.257009 142.147065 \nL 315.814687 139.721082 \nL 318.372364 144.650388 \nL 320.930042 149.439238 \nL 323.48772 145.862935 \nL 326.045397 142.371973 \nL 328.603075 139.473061 \nL 331.160752 138.748555 \nL 333.71843 142.225294 \nL 336.276108 144.901076 \nL 338.833785 146.122513 \nL 341.391463 147.039035 \nL 343.949141 149.964615 \nL 346.506818 152.379042 \n\" clip-path=\"url(#pd9796d2b8f)\" style=\"fill: none; stroke: #2ca02c; stroke-width: 1.5; stroke-linecap: square\"/>\n   </g>\n   <g id=\"patch_3\">\n    <path d=\"M 26.925 239.758125 \nL 26.925 22.318125 \n\" style=\"fill: none; stroke: #000000; stroke-width: 0.8; stroke-linejoin: miter; stroke-linecap: square\"/>\n   </g>\n   <g id=\"patch_4\">\n    <path d=\"M 361.725 239.758125 \nL 361.725 22.318125 \n\" style=\"fill: none; stroke: #000000; stroke-width: 0.8; stroke-linejoin: miter; stroke-linecap: square\"/>\n   </g>\n   <g id=\"patch_5\">\n    <path d=\"M 26.925 239.758125 \nL 361.725 239.758125 \n\" style=\"fill: none; stroke: #000000; stroke-width: 0.8; stroke-linejoin: miter; stroke-linecap: square\"/>\n   </g>\n   <g id=\"patch_6\">\n    <path d=\"M 26.925 22.318125 \nL 361.725 22.318125 \n\" style=\"fill: none; stroke: #000000; stroke-width: 0.8; stroke-linejoin: miter; stroke-linecap: square\"/>\n   </g>\n   <g id=\"text_14\">\n    <!-- Annual CO2 Emissions (per capita) -->\n    <g transform=\"translate(90.16125 16.318125)scale(0.12 -0.12)\">\n     <defs>\n      <path id=\"DejaVuSans-41\" d=\"M 2188 4044 \nL 1331 1722 \nL 3047 1722 \nL 2188 4044 \nz\nM 1831 4666 \nL 2547 4666 \nL 4325 0 \nL 3669 0 \nL 3244 1197 \nL 1141 1197 \nL 716 0 \nL 50 0 \nL 1831 4666 \nz\n\" transform=\"scale(0.015625)\"/>\n      <path id=\"DejaVuSans-75\" d=\"M 544 1381 \nL 544 3500 \nL 1119 3500 \nL 1119 1403 \nQ 1119 906 1312 657 \nQ 1506 409 1894 409 \nQ 2359 409 2629 706 \nQ 2900 1003 2900 1516 \nL 2900 3500 \nL 3475 3500 \nL 3475 0 \nL 2900 0 \nL 2900 538 \nQ 2691 219 2414 64 \nQ 2138 -91 1772 -91 \nQ 1169 -91 856 284 \nQ 544 659 544 1381 \nz\nM 1991 3584 \nL 1991 3584 \nz\n\" transform=\"scale(0.015625)\"/>\n      <path id=\"DejaVuSans-6c\" d=\"M 603 4863 \nL 1178 4863 \nL 1178 0 \nL 603 0 \nL 603 4863 \nz\n\" transform=\"scale(0.015625)\"/>\n      <path id=\"DejaVuSans-20\" transform=\"scale(0.015625)\"/>\n      <path id=\"DejaVuSans-43\" d=\"M 4122 4306 \nL 4122 3641 \nQ 3803 3938 3442 4084 \nQ 3081 4231 2675 4231 \nQ 1875 4231 1450 3742 \nQ 1025 3253 1025 2328 \nQ 1025 1406 1450 917 \nQ 1875 428 2675 428 \nQ 3081 428 3442 575 \nQ 3803 722 4122 1019 \nL 4122 359 \nQ 3791 134 3420 21 \nQ 3050 -91 2638 -91 \nQ 1578 -91 968 557 \nQ 359 1206 359 2328 \nQ 359 3453 968 4101 \nQ 1578 4750 2638 4750 \nQ 3056 4750 3426 4639 \nQ 3797 4528 4122 4306 \nz\n\" transform=\"scale(0.015625)\"/>\n      <path id=\"DejaVuSans-4f\" d=\"M 2522 4238 \nQ 1834 4238 1429 3725 \nQ 1025 3213 1025 2328 \nQ 1025 1447 1429 934 \nQ 1834 422 2522 422 \nQ 3209 422 3611 934 \nQ 4013 1447 4013 2328 \nQ 4013 3213 3611 3725 \nQ 3209 4238 2522 4238 \nz\nM 2522 4750 \nQ 3503 4750 4090 4092 \nQ 4678 3434 4678 2328 \nQ 4678 1225 4090 567 \nQ 3503 -91 2522 -91 \nQ 1538 -91 948 565 \nQ 359 1222 359 2328 \nQ 359 3434 948 4092 \nQ 1538 4750 2522 4750 \nz\n\" transform=\"scale(0.015625)\"/>\n      <path id=\"DejaVuSans-6d\" d=\"M 3328 2828 \nQ 3544 3216 3844 3400 \nQ 4144 3584 4550 3584 \nQ 5097 3584 5394 3201 \nQ 5691 2819 5691 2113 \nL 5691 0 \nL 5113 0 \nL 5113 2094 \nQ 5113 2597 4934 2840 \nQ 4756 3084 4391 3084 \nQ 3944 3084 3684 2787 \nQ 3425 2491 3425 1978 \nL 3425 0 \nL 2847 0 \nL 2847 2094 \nQ 2847 2600 2669 2842 \nQ 2491 3084 2119 3084 \nQ 1678 3084 1418 2786 \nQ 1159 2488 1159 1978 \nL 1159 0 \nL 581 0 \nL 581 3500 \nL 1159 3500 \nL 1159 2956 \nQ 1356 3278 1631 3431 \nQ 1906 3584 2284 3584 \nQ 2666 3584 2933 3390 \nQ 3200 3197 3328 2828 \nz\n\" transform=\"scale(0.015625)\"/>\n      <path id=\"DejaVuSans-73\" d=\"M 2834 3397 \nL 2834 2853 \nQ 2591 2978 2328 3040 \nQ 2066 3103 1784 3103 \nQ 1356 3103 1142 2972 \nQ 928 2841 928 2578 \nQ 928 2378 1081 2264 \nQ 1234 2150 1697 2047 \nL 1894 2003 \nQ 2506 1872 2764 1633 \nQ 3022 1394 3022 966 \nQ 3022 478 2636 193 \nQ 2250 -91 1575 -91 \nQ 1294 -91 989 -36 \nQ 684 19 347 128 \nL 347 722 \nQ 666 556 975 473 \nQ 1284 391 1588 391 \nQ 1994 391 2212 530 \nQ 2431 669 2431 922 \nQ 2431 1156 2273 1281 \nQ 2116 1406 1581 1522 \nL 1381 1569 \nQ 847 1681 609 1914 \nQ 372 2147 372 2553 \nQ 372 3047 722 3315 \nQ 1072 3584 1716 3584 \nQ 2034 3584 2315 3537 \nQ 2597 3491 2834 3397 \nz\n\" transform=\"scale(0.015625)\"/>\n      <path id=\"DejaVuSans-6f\" d=\"M 1959 3097 \nQ 1497 3097 1228 2736 \nQ 959 2375 959 1747 \nQ 959 1119 1226 758 \nQ 1494 397 1959 397 \nQ 2419 397 2687 759 \nQ 2956 1122 2956 1747 \nQ 2956 2369 2687 2733 \nQ 2419 3097 1959 3097 \nz\nM 1959 3584 \nQ 2709 3584 3137 3096 \nQ 3566 2609 3566 1747 \nQ 3566 888 3137 398 \nQ 2709 -91 1959 -91 \nQ 1206 -91 779 398 \nQ 353 888 353 1747 \nQ 353 2609 779 3096 \nQ 1206 3584 1959 3584 \nz\n\" transform=\"scale(0.015625)\"/>\n      <path id=\"DejaVuSans-28\" d=\"M 1984 4856 \nQ 1566 4138 1362 3434 \nQ 1159 2731 1159 2009 \nQ 1159 1288 1364 580 \nQ 1569 -128 1984 -844 \nL 1484 -844 \nQ 1016 -109 783 600 \nQ 550 1309 550 2009 \nQ 550 2706 781 3412 \nQ 1013 4119 1484 4856 \nL 1984 4856 \nz\n\" transform=\"scale(0.015625)\"/>\n      <path id=\"DejaVuSans-70\" d=\"M 1159 525 \nL 1159 -1331 \nL 581 -1331 \nL 581 3500 \nL 1159 3500 \nL 1159 2969 \nQ 1341 3281 1617 3432 \nQ 1894 3584 2278 3584 \nQ 2916 3584 3314 3078 \nQ 3713 2572 3713 1747 \nQ 3713 922 3314 415 \nQ 2916 -91 2278 -91 \nQ 1894 -91 1617 61 \nQ 1341 213 1159 525 \nz\nM 3116 1747 \nQ 3116 2381 2855 2742 \nQ 2594 3103 2138 3103 \nQ 1681 3103 1420 2742 \nQ 1159 2381 1159 1747 \nQ 1159 1113 1420 752 \nQ 1681 391 2138 391 \nQ 2594 391 2855 752 \nQ 3116 1113 3116 1747 \nz\n\" transform=\"scale(0.015625)\"/>\n      <path id=\"DejaVuSans-63\" d=\"M 3122 3366 \nL 3122 2828 \nQ 2878 2963 2633 3030 \nQ 2388 3097 2138 3097 \nQ 1578 3097 1268 2742 \nQ 959 2388 959 1747 \nQ 959 1106 1268 751 \nQ 1578 397 2138 397 \nQ 2388 397 2633 464 \nQ 2878 531 3122 666 \nL 3122 134 \nQ 2881 22 2623 -34 \nQ 2366 -91 2075 -91 \nQ 1284 -91 818 406 \nQ 353 903 353 1747 \nQ 353 2603 823 3093 \nQ 1294 3584 2113 3584 \nQ 2378 3584 2631 3529 \nQ 2884 3475 3122 3366 \nz\n\" transform=\"scale(0.015625)\"/>\n      <path id=\"DejaVuSans-29\" d=\"M 513 4856 \nL 1013 4856 \nQ 1481 4119 1714 3412 \nQ 1947 2706 1947 2009 \nQ 1947 1309 1714 600 \nQ 1481 -109 1013 -844 \nL 513 -844 \nQ 928 -128 1133 580 \nQ 1338 1288 1338 2009 \nQ 1338 2731 1133 3434 \nQ 928 4138 513 4856 \nz\n\" transform=\"scale(0.015625)\"/>\n     </defs>\n     <use xlink:href=\"#DejaVuSans-41\"/>\n     <use xlink:href=\"#DejaVuSans-6e\" x=\"68.408203\"/>\n     <use xlink:href=\"#DejaVuSans-6e\" x=\"131.787109\"/>\n     <use xlink:href=\"#DejaVuSans-75\" x=\"195.166016\"/>\n     <use xlink:href=\"#DejaVuSans-61\" x=\"258.544922\"/>\n     <use xlink:href=\"#DejaVuSans-6c\" x=\"319.824219\"/>\n     <use xlink:href=\"#DejaVuSans-20\" x=\"347.607422\"/>\n     <use xlink:href=\"#DejaVuSans-43\" x=\"379.394531\"/>\n     <use xlink:href=\"#DejaVuSans-4f\" x=\"449.21875\"/>\n     <use xlink:href=\"#DejaVuSans-32\" x=\"527.929688\"/>\n     <use xlink:href=\"#DejaVuSans-20\" x=\"591.552734\"/>\n     <use xlink:href=\"#DejaVuSans-45\" x=\"623.339844\"/>\n     <use xlink:href=\"#DejaVuSans-6d\" x=\"686.523438\"/>\n     <use xlink:href=\"#DejaVuSans-69\" x=\"783.935547\"/>\n     <use xlink:href=\"#DejaVuSans-73\" x=\"811.71875\"/>\n     <use xlink:href=\"#DejaVuSans-73\" x=\"863.818359\"/>\n     <use xlink:href=\"#DejaVuSans-69\" x=\"915.917969\"/>\n     <use xlink:href=\"#DejaVuSans-6f\" x=\"943.701172\"/>\n     <use xlink:href=\"#DejaVuSans-6e\" x=\"1004.882812\"/>\n     <use xlink:href=\"#DejaVuSans-73\" x=\"1068.261719\"/>\n     <use xlink:href=\"#DejaVuSans-20\" x=\"1120.361328\"/>\n     <use xlink:href=\"#DejaVuSans-28\" x=\"1152.148438\"/>\n     <use xlink:href=\"#DejaVuSans-70\" x=\"1191.162109\"/>\n     <use xlink:href=\"#DejaVuSans-65\" x=\"1254.638672\"/>\n     <use xlink:href=\"#DejaVuSans-72\" x=\"1316.162109\"/>\n     <use xlink:href=\"#DejaVuSans-20\" x=\"1357.275391\"/>\n     <use xlink:href=\"#DejaVuSans-63\" x=\"1389.0625\"/>\n     <use xlink:href=\"#DejaVuSans-61\" x=\"1444.042969\"/>\n     <use xlink:href=\"#DejaVuSans-70\" x=\"1505.322266\"/>\n     <use xlink:href=\"#DejaVuSans-69\" x=\"1568.798828\"/>\n     <use xlink:href=\"#DejaVuSans-74\" x=\"1596.582031\"/>\n     <use xlink:href=\"#DejaVuSans-61\" x=\"1635.791016\"/>\n     <use xlink:href=\"#DejaVuSans-29\" x=\"1697.070312\"/>\n    </g>\n   </g>\n   <g id=\"legend_1\">\n    <g id=\"patch_7\">\n     <path d=\"M 33.925 74.3525 \nL 133.639062 74.3525 \nQ 135.639062 74.3525 135.639062 72.3525 \nL 135.639062 29.318125 \nQ 135.639062 27.318125 133.639062 27.318125 \nL 33.925 27.318125 \nQ 31.925 27.318125 31.925 29.318125 \nL 31.925 72.3525 \nQ 31.925 74.3525 33.925 74.3525 \nz\n\" style=\"fill: #ffffff; opacity: 0.8; stroke: #cccccc; stroke-linejoin: miter\"/>\n    </g>\n    <g id=\"line2d_16\">\n     <path d=\"M 35.925 35.416562 \nL 45.925 35.416562 \nL 55.925 35.416562 \n\" style=\"fill: none; stroke: #1f77b4; stroke-width: 1.5; stroke-linecap: square\"/>\n    </g>\n    <g id=\"text_15\">\n     <!-- China -->\n     <g transform=\"translate(63.925 38.916562)scale(0.1 -0.1)\">\n      <defs>\n       <path id=\"DejaVuSans-68\" d=\"M 3513 2113 \nL 3513 0 \nL 2938 0 \nL 2938 2094 \nQ 2938 2591 2744 2837 \nQ 2550 3084 2163 3084 \nQ 1697 3084 1428 2787 \nQ 1159 2491 1159 1978 \nL 1159 0 \nL 581 0 \nL 581 4863 \nL 1159 4863 \nL 1159 2956 \nQ 1366 3272 1645 3428 \nQ 1925 3584 2291 3584 \nQ 2894 3584 3203 3211 \nQ 3513 2838 3513 2113 \nz\n\" transform=\"scale(0.015625)\"/>\n      </defs>\n      <use xlink:href=\"#DejaVuSans-43\"/>\n      <use xlink:href=\"#DejaVuSans-68\" x=\"69.824219\"/>\n      <use xlink:href=\"#DejaVuSans-69\" x=\"133.203125\"/>\n      <use xlink:href=\"#DejaVuSans-6e\" x=\"160.986328\"/>\n      <use xlink:href=\"#DejaVuSans-61\" x=\"224.365234\"/>\n     </g>\n    </g>\n    <g id=\"line2d_17\">\n     <path d=\"M 35.925 50.094687 \nL 45.925 50.094687 \nL 55.925 50.094687 \n\" style=\"fill: none; stroke: #ff7f0e; stroke-width: 1.5; stroke-linecap: square\"/>\n    </g>\n    <g id=\"text_16\">\n     <!-- United States -->\n     <g transform=\"translate(63.925 53.594687)scale(0.1 -0.1)\">\n      <defs>\n       <path id=\"DejaVuSans-55\" d=\"M 556 4666 \nL 1191 4666 \nL 1191 1831 \nQ 1191 1081 1462 751 \nQ 1734 422 2344 422 \nQ 2950 422 3222 751 \nQ 3494 1081 3494 1831 \nL 3494 4666 \nL 4128 4666 \nL 4128 1753 \nQ 4128 841 3676 375 \nQ 3225 -91 2344 -91 \nQ 1459 -91 1007 375 \nQ 556 841 556 1753 \nL 556 4666 \nz\n\" transform=\"scale(0.015625)\"/>\n       <path id=\"DejaVuSans-64\" d=\"M 2906 2969 \nL 2906 4863 \nL 3481 4863 \nL 3481 0 \nL 2906 0 \nL 2906 525 \nQ 2725 213 2448 61 \nQ 2172 -91 1784 -91 \nQ 1150 -91 751 415 \nQ 353 922 353 1747 \nQ 353 2572 751 3078 \nQ 1150 3584 1784 3584 \nQ 2172 3584 2448 3432 \nQ 2725 3281 2906 2969 \nz\nM 947 1747 \nQ 947 1113 1208 752 \nQ 1469 391 1925 391 \nQ 2381 391 2643 752 \nQ 2906 1113 2906 1747 \nQ 2906 2381 2643 2742 \nQ 2381 3103 1925 3103 \nQ 1469 3103 1208 2742 \nQ 947 2381 947 1747 \nz\n\" transform=\"scale(0.015625)\"/>\n       <path id=\"DejaVuSans-53\" d=\"M 3425 4513 \nL 3425 3897 \nQ 3066 4069 2747 4153 \nQ 2428 4238 2131 4238 \nQ 1616 4238 1336 4038 \nQ 1056 3838 1056 3469 \nQ 1056 3159 1242 3001 \nQ 1428 2844 1947 2747 \nL 2328 2669 \nQ 3034 2534 3370 2195 \nQ 3706 1856 3706 1288 \nQ 3706 609 3251 259 \nQ 2797 -91 1919 -91 \nQ 1588 -91 1214 -16 \nQ 841 59 441 206 \nL 441 856 \nQ 825 641 1194 531 \nQ 1563 422 1919 422 \nQ 2459 422 2753 634 \nQ 3047 847 3047 1241 \nQ 3047 1584 2836 1778 \nQ 2625 1972 2144 2069 \nL 1759 2144 \nQ 1053 2284 737 2584 \nQ 422 2884 422 3419 \nQ 422 4038 858 4394 \nQ 1294 4750 2059 4750 \nQ 2388 4750 2728 4690 \nQ 3069 4631 3425 4513 \nz\n\" transform=\"scale(0.015625)\"/>\n      </defs>\n      <use xlink:href=\"#DejaVuSans-55\"/>\n      <use xlink:href=\"#DejaVuSans-6e\" x=\"73.193359\"/>\n      <use xlink:href=\"#DejaVuSans-69\" x=\"136.572266\"/>\n      <use xlink:href=\"#DejaVuSans-74\" x=\"164.355469\"/>\n      <use xlink:href=\"#DejaVuSans-65\" x=\"203.564453\"/>\n      <use xlink:href=\"#DejaVuSans-64\" x=\"265.087891\"/>\n      <use xlink:href=\"#DejaVuSans-20\" x=\"328.564453\"/>\n      <use xlink:href=\"#DejaVuSans-53\" x=\"360.351562\"/>\n      <use xlink:href=\"#DejaVuSans-74\" x=\"423.828125\"/>\n      <use xlink:href=\"#DejaVuSans-61\" x=\"463.037109\"/>\n      <use xlink:href=\"#DejaVuSans-74\" x=\"524.316406\"/>\n      <use xlink:href=\"#DejaVuSans-65\" x=\"563.525391\"/>\n      <use xlink:href=\"#DejaVuSans-73\" x=\"625.048828\"/>\n     </g>\n    </g>\n    <g id=\"line2d_18\">\n     <path d=\"M 35.925 64.772812 \nL 45.925 64.772812 \nL 55.925 64.772812 \n\" style=\"fill: none; stroke: #2ca02c; stroke-width: 1.5; stroke-linecap: square\"/>\n    </g>\n    <g id=\"text_17\">\n     <!-- Japan -->\n     <g transform=\"translate(63.925 68.272812)scale(0.1 -0.1)\">\n      <defs>\n       <path id=\"DejaVuSans-4a\" d=\"M 628 4666 \nL 1259 4666 \nL 1259 325 \nQ 1259 -519 939 -900 \nQ 619 -1281 -91 -1281 \nL -331 -1281 \nL -331 -750 \nL -134 -750 \nQ 284 -750 456 -515 \nQ 628 -281 628 325 \nL 628 4666 \nz\n\" transform=\"scale(0.015625)\"/>\n      </defs>\n      <use xlink:href=\"#DejaVuSans-4a\"/>\n      <use xlink:href=\"#DejaVuSans-61\" x=\"29.492188\"/>\n      <use xlink:href=\"#DejaVuSans-70\" x=\"90.771484\"/>\n      <use xlink:href=\"#DejaVuSans-61\" x=\"154.248047\"/>\n      <use xlink:href=\"#DejaVuSans-6e\" x=\"215.527344\"/>\n     </g>\n    </g>\n   </g>\n  </g>\n </g>\n <defs>\n  <clipPath id=\"pd9796d2b8f\">\n   <rect x=\"26.925\" y=\"22.318125\" width=\"334.8\" height=\"217.44\"/>\n  </clipPath>\n </defs>\n</svg>\n",
            "text/plain": [
              "<Figure size 432x288 with 1 Axes>"
            ]
          },
          "metadata": {
            "needs_background": "light"
          },
          "output_type": "display_data"
        }
      ],
      "source": [
        "graphCo2([\"China\", \"United States\", \"Japan\"])"
      ]
    },
    {
      "cell_type": "markdown",
      "metadata": {},
      "source": [
        "전기차 생산량이 늘어나고 있는 2010년 부근부터 미국, 일본은  CO2 배출량 곡선이 줄어든 것을 확인할 수 있다. 물론 전기차만 원인이라고 하기는 어렵겠지만, 전기차의 사용량이 늘어난 것도 분명 작용하였을 것이다."
      ]
    },
    {
      "cell_type": "markdown",
      "metadata": {},
      "source": [
        "### 2.3. 위 3개의 국가에서 실행되고 있는 자동차 관련 규제로는 무엇이 있을까?"
      ]
    },
    {
      "cell_type": "code",
      "execution_count": 309,
      "metadata": {},
      "outputs": [
        {
          "data": {
            "text/html": [
              "<div>\n",
              "<style scoped>\n",
              "    .dataframe tbody tr th:only-of-type {\n",
              "        vertical-align: middle;\n",
              "    }\n",
              "\n",
              "    .dataframe tbody tr th {\n",
              "        vertical-align: top;\n",
              "    }\n",
              "\n",
              "    .dataframe thead th {\n",
              "        text-align: right;\n",
              "    }\n",
              "</style>\n",
              "<table border=\"1\" class=\"dataframe\">\n",
              "  <thead>\n",
              "    <tr style=\"text-align: right;\">\n",
              "      <th></th>\n",
              "      <th>City or Territory</th>\n",
              "      <th>Country</th>\n",
              "      <th>Announced</th>\n",
              "      <th>Commences</th>\n",
              "      <th>Scope</th>\n",
              "      <th>Details</th>\n",
              "    </tr>\n",
              "  </thead>\n",
              "  <tbody>\n",
              "    <tr>\n",
              "      <th>24</th>\n",
              "      <td>Hainan</td>\n",
              "      <td>China</td>\n",
              "      <td>2018</td>\n",
              "      <td>2030</td>\n",
              "      <td>Diesel, petrol</td>\n",
              "      <td>All vehicles</td>\n",
              "    </tr>\n",
              "    <tr>\n",
              "      <th>13</th>\n",
              "      <td>California</td>\n",
              "      <td>United States</td>\n",
              "      <td>2020</td>\n",
              "      <td>2035</td>\n",
              "      <td>Net-emitting vehicles</td>\n",
              "      <td>All passenger vehicles and light-duty trucks.</td>\n",
              "    </tr>\n",
              "    <tr>\n",
              "      <th>30</th>\n",
              "      <td>Los Angeles</td>\n",
              "      <td>United States</td>\n",
              "      <td>2017</td>\n",
              "      <td>2030</td>\n",
              "      <td>Diesel, petrol</td>\n",
              "      <td>All vehicles, electric buses by 2025</td>\n",
              "    </tr>\n",
              "    <tr>\n",
              "      <th>32</th>\n",
              "      <td>Massachusetts</td>\n",
              "      <td>United States</td>\n",
              "      <td>2020</td>\n",
              "      <td>2035</td>\n",
              "      <td>Diesel, petrol</td>\n",
              "      <td>Will set equivalent regulations to match Calif...</td>\n",
              "    </tr>\n",
              "    <tr>\n",
              "      <th>38</th>\n",
              "      <td>New York State</td>\n",
              "      <td>United States</td>\n",
              "      <td>2021</td>\n",
              "      <td>2035</td>\n",
              "      <td>Non-ZEV</td>\n",
              "      <td>New passenger cars and trucks and off-road veh...</td>\n",
              "    </tr>\n",
              "    <tr>\n",
              "      <th>39</th>\n",
              "      <td>New York City</td>\n",
              "      <td>United States</td>\n",
              "      <td>2020</td>\n",
              "      <td>2040</td>\n",
              "      <td>Non-electric vehicles</td>\n",
              "      <td>All vehicles owned or operated by New York City</td>\n",
              "    </tr>\n",
              "    <tr>\n",
              "      <th>48</th>\n",
              "      <td>Seattle</td>\n",
              "      <td>United States</td>\n",
              "      <td>2017</td>\n",
              "      <td>2030</td>\n",
              "      <td>Diesel, petrol</td>\n",
              "      <td>All vehicles, electric buses by 2025</td>\n",
              "    </tr>\n",
              "  </tbody>\n",
              "</table>\n",
              "</div>"
            ],
            "text/plain": [
              "   City or Territory        Country Announced Commences  \\\n",
              "24            Hainan          China      2018      2030   \n",
              "13        California  United States      2020      2035   \n",
              "30       Los Angeles  United States      2017      2030   \n",
              "32     Massachusetts  United States      2020      2035   \n",
              "38    New York State  United States      2021      2035   \n",
              "39     New York City  United States      2020      2040   \n",
              "48           Seattle  United States      2017      2030   \n",
              "\n",
              "                    Scope                                            Details  \n",
              "24         Diesel, petrol                                       All vehicles  \n",
              "13  Net-emitting vehicles      All passenger vehicles and light-duty trucks.  \n",
              "30         Diesel, petrol               All vehicles, electric buses by 2025  \n",
              "32         Diesel, petrol  Will set equivalent regulations to match Calif...  \n",
              "38                Non-ZEV  New passenger cars and trucks and off-road veh...  \n",
              "39  Non-electric vehicles    All vehicles owned or operated by New York City  \n",
              "48         Diesel, petrol               All vehicles, electric buses by 2025  "
            ]
          },
          "execution_count": 309,
          "metadata": {},
          "output_type": "execute_result"
        }
      ],
      "source": [
        "restriction[restriction[\"Country\"].isin((\"United States\", \"China\", \"Japan\"))]\\\n",
        "    .sort_values(\"Country\")"
      ]
    },
    {
      "cell_type": "markdown",
      "metadata": {
        "id": "ExTYX5PiQkTf"
      },
      "source": [
        "## 타이틀 추가~"
      ]
    },
    {
      "cell_type": "code",
      "execution_count": null,
      "metadata": {
        "id": "oT8YOVWTQmG5"
      },
      "outputs": [],
      "source": []
    }
  ],
  "metadata": {
    "colab": {
      "collapsed_sections": [],
      "name": "20049박지호 - 프로젝트2주차과제_EDA코드(빈칸).ipynb",
      "provenance": []
    },
    "interpreter": {
      "hash": "916dbcbb3f70747c44a77c7bcd40155683ae19c65e1c03b4aa3499c5328201f1"
    },
    "kernelspec": {
      "display_name": "Python 3.8.10 64-bit",
      "name": "python3"
    },
    "language_info": {
      "codemirror_mode": {
        "name": "ipython",
        "version": 3
      },
      "file_extension": ".py",
      "mimetype": "text/x-python",
      "name": "python",
      "nbconvert_exporter": "python",
      "pygments_lexer": "ipython3",
      "version": "3.8.10"
    }
  },
  "nbformat": 4,
  "nbformat_minor": 0
}
